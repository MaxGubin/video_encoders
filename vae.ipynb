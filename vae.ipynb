{
 "cells": [
  {
   "cell_type": "code",
   "execution_count": 1,
   "id": "500ad03c-21a0-4dc4-aaed-692d7c42d4d6",
   "metadata": {},
   "outputs": [],
   "source": [
    "import jax"
   ]
  },
  {
   "cell_type": "code",
   "execution_count": 2,
   "id": "08811524-e39e-428a-8404-050cb951e292",
   "metadata": {},
   "outputs": [
    {
     "data": {
      "text/plain": [
       "[CudaDevice(id=0)]"
      ]
     },
     "execution_count": 2,
     "metadata": {},
     "output_type": "execute_result"
    }
   ],
   "source": [
    "jax.devices()"
   ]
  },
  {
   "cell_type": "code",
   "execution_count": 3,
   "id": "b9d0c4f5-5601-4d35-8973-fb0c9985a22a",
   "metadata": {},
   "outputs": [],
   "source": [
    "from flax import nnx\n",
    "import optax\n",
    "import jax.numpy as jnp\n"
   ]
  },
  {
   "cell_type": "code",
   "execution_count": 4,
   "id": "3b88b234-4124-448d-a394-0798ecb55ef5",
   "metadata": {},
   "outputs": [],
   "source": [
    "class Encoder(nnx.Module):\n",
    "    \"\"\"VAE Encoder\"\"\"\n",
    "    def __init__(self, latent_dim: int, image_flatten_dim: int, internal_dim:int, rngs: nnx.Rngs):\n",
    "        self.dense_layer = nnx.Linear(in_features=image_flatten_dim, out_features=internal_dim, rngs=rngs)\n",
    "        self.mean_layer = nnx.Linear(in_features=internal_dim, out_features=latent_dim, rngs=rngs)\n",
    "        self.logvar_layer = nnx.Linear(in_features=internal_dim, out_features=latent_dim, rngs=rngs)\n",
    "    def __call__(self, x: jax.Array):\n",
    "        x = self.dense_layer(x)\n",
    "        x = jax.nn.relu(x)\n",
    "        means = self.mean_layer(x)\n",
    "        logvars = self.logvar_layer(x)\n",
    "        return (means, logvars)\n",
    "        "
   ]
  },
  {
   "cell_type": "code",
   "execution_count": 5,
   "id": "dfd90361-01ab-4ad5-ac47-cd048af70466",
   "metadata": {},
   "outputs": [],
   "source": [
    "class Decoder(nnx.Module):\n",
    "    \"\"\"VAE Decoder\"\"\"\n",
    "    def __init__(self, latent_dim: int, image_flatten_dim: int, internal_dim:int, rngs: nnx.Rngs):\n",
    "        self.dense_layer1 = nnx.Linear(in_features=latent_dim, out_features=internal_dim, rngs=rngs)\n",
    "        self.dense_layer2 = nnx.Linear(in_features=internal_dim, out_features=image_flatten_dim, rngs=rngs)\n",
    "    def __call__(self, x: jax.Array):\n",
    "        x = self.dense_layer1(x)\n",
    "        x = jax.nn.relu(x)\n",
    "        x = self.dense_layer2(x)\n",
    "        return x"
   ]
  },
  {
   "cell_type": "code",
   "execution_count": 6,
   "id": "70368b6e-373e-451a-b36a-d83c2d8229fd",
   "metadata": {},
   "outputs": [],
   "source": [
    "class VAE(nnx.Module):\n",
    "    \"\"\"VAE together\"\"\"\n",
    "    def __init__(self, latent_dim:int, image_flatten_dim:int, internal_dim:int, rngs: nnx.Rngs):\n",
    "        self.encoder = Encoder(latent_dim=latent_dim, image_flatten_dim=image_flatten_dim, internal_dim=internal_dim, rngs=rngs)\n",
    "        self.decoder = Decoder(latent_dim=latent_dim, image_flatten_dim=image_flatten_dim, internal_dim=internal_dim, rngs=rngs)\n",
    "        self.random_for_reparam = rngs.reparam()\n",
    "    def __call__(self, x: jax.Array):\n",
    "        mean, logvar = self.encoder(x)\n",
    "        x = self.reparam(mean, logvar)\n",
    "        x = self.decoder(x)\n",
    "        return x, mean, logvar\n",
    "\n",
    "    def reparam(self, mean: jax.Array, logvars: jax.Array):\n",
    "        std = jnp.exp(logvars/2.0)\n",
    "        eps = jax.random.normal(self.random_for_reparam, logvars.shape)\n",
    "        return mean + eps*std\n",
    "        "
   ]
  },
  {
   "cell_type": "markdown",
   "id": "ed818482-cdbf-452c-b3a2-14efa50817c2",
   "metadata": {},
   "source": [
    "# Create Datasets"
   ]
  },
  {
   "cell_type": "code",
   "execution_count": 8,
   "id": "1155ccb4-ac94-4a46-9e7a-4e0bc3ef8168",
   "metadata": {},
   "outputs": [],
   "source": [
    "import datasets\n",
    "from PIL import Image\n",
    "from IPython.display import display"
   ]
  },
  {
   "cell_type": "code",
   "execution_count": 9,
   "id": "af619334-4a75-4446-b24e-9107215057fb",
   "metadata": {},
   "outputs": [],
   "source": [
    "dataset = datasets.load_dataset(\"ylecun/mnist\")"
   ]
  },
  {
   "cell_type": "code",
   "execution_count": 10,
   "id": "9ff0cc25-4475-4edd-9fb8-be2550371415",
   "metadata": {},
   "outputs": [],
   "source": [
    "fl = dataset[\"train\"][\"image\"][0]"
   ]
  },
  {
   "cell_type": "code",
   "execution_count": 11,
   "id": "2e8bdead-7dc4-4e26-ab09-50089f41a0fd",
   "metadata": {},
   "outputs": [
    {
     "data": {
      "text/plain": [
       "Array([[1, 2],\n",
       "       [3, 4]], dtype=int32)"
      ]
     },
     "execution_count": 11,
     "metadata": {},
     "output_type": "execute_result"
    }
   ],
   "source": [
    "jnp.array([jnp.array([1,2]), jnp.array([3,4])])"
   ]
  },
  {
   "cell_type": "code",
   "execution_count": 12,
   "id": "914aa9b2-3807-4062-9df9-37744a19576e",
   "metadata": {},
   "outputs": [],
   "source": [
    "iter_data = dataset[\"train\"].map(lambda x: {\"x\": jnp.array([jnp.array(i) for i in x[\"image\"]])}, remove_columns=dataset[\"train\"].column_names, batched=True, batch_size=32)"
   ]
  },
  {
   "cell_type": "markdown",
   "id": "7af2b38a-fbf6-478a-a49b-f364cc6b348a",
   "metadata": {},
   "source": [
    "# Training"
   ]
  },
  {
   "cell_type": "code",
   "execution_count": 13,
   "id": "5a433da9-fc8f-4880-bebe-84e0b63a2216",
   "metadata": {},
   "outputs": [],
   "source": [
    "def kl_divergence(mean, logvar):\n",
    "  return -0.5 * jnp.sum(1 + logvar - jnp.square(mean) - jnp.exp(logvar))"
   ]
  },
  {
   "cell_type": "code",
   "execution_count": 14,
   "id": "551b7e7e-182c-4f83-b5a9-e76c9c0ecc4f",
   "metadata": {},
   "outputs": [],
   "source": [
    "def reconstruct_loss(logits, labels):\n",
    "    logits = jax.nn.log_sigmoid(logits)\n",
    "    return -jnp.sum(\n",
    "        labels * logits + (1.0 - labels) * jnp.log(-jnp.expm1(logits))\n",
    "    )"
   ]
  },
  {
   "cell_type": "code",
   "execution_count": 56,
   "id": "2702d12a-7ce9-4c7b-9682-5aed560c75ad",
   "metadata": {},
   "outputs": [],
   "source": [
    "model = VAE(10, 28*28, 256, nnx.Rngs(0))\n",
    "tx = optax.adam(0.001)\n",
    "optimizer = nnx.Optimizer(model, tx)"
   ]
  },
  {
   "cell_type": "code",
   "execution_count": 57,
   "id": "cdd4579b-8881-41be-9784-984dd431a612",
   "metadata": {},
   "outputs": [],
   "source": [
    "def loss_fn(model, data):\n",
    "    logits, mean, logvar = model(data)\n",
    "    divergence = kl_divergence(mean, logvar)\n",
    "    reconstruct = reconstruct_loss(logits, data)\n",
    "    return divergence + reconstruct\n"
   ]
  },
  {
   "cell_type": "code",
   "execution_count": 58,
   "id": "fa86610f-2a64-47c8-af14-62a5bf4cde2a",
   "metadata": {},
   "outputs": [],
   "source": [
    "@nnx.jit\n",
    "def train_step(model: VAE, optimizer: nnx.Optimizer, metrics: nnx.MultiMetric, data):\n",
    "    grad_fn = nnx.value_and_grad(loss_fn)\n",
    "    loss, grads = grad_fn(model, data)\n",
    "    optimizer.update(grads)\n",
    "    metrics.update(loss=loss)\n",
    "    "
   ]
  },
  {
   "cell_type": "code",
   "execution_count": 59,
   "id": "514e1f5d-ed5b-4f12-8a12-617f5dbadcf7",
   "metadata": {},
   "outputs": [],
   "source": [
    "metrics = nnx.MultiMetric(\n",
    "  loss=nnx.metrics.Average('loss'),\n",
    ")"
   ]
  },
  {
   "cell_type": "code",
   "execution_count": null,
   "id": "a127a325-cee8-405b-8343-a6f8e2208619",
   "metadata": {},
   "outputs": [],
   "source": [
    "for _ in range(10):\n",
    "    for step, batch in enumerate(iter_data.shuffle()['x']):\n",
    "        data = jnp.array(jnp.array(batch)!=0, dtype=jnp.float32).reshape(-1, 28*28)\n",
    "        train_step(model, optimizer, metrics, data)\n",
    "        if step%100 == 0:\n",
    "            print([(m, v) for m,v in metrics.compute().items()])"
   ]
  },
  {
   "cell_type": "markdown",
   "id": "cdd20578-6f90-4dc5-99ba-bacb49d85c2d",
   "metadata": {},
   "source": [
    "# Inference"
   ]
  },
  {
   "cell_type": "code",
   "execution_count": 61,
   "id": "0b4b8651-265a-450a-bf39-afb94e9272ae",
   "metadata": {},
   "outputs": [],
   "source": [
    "test_data = dataset[\"test\"][\"image\"]"
   ]
  },
  {
   "cell_type": "code",
   "execution_count": 117,
   "id": "52eed25e-50c4-46f6-8dff-d46063cfdd2d",
   "metadata": {},
   "outputs": [
    {
     "data": {
      "image/jpeg": "[encoded data removed]",
      "image/png": "[encoded data removed]",
      "text/plain": [
       "<PIL.PngImagePlugin.PngImageFile image mode=L size=28x28>"
      ]
     },
     "execution_count": 117,
     "metadata": {},
     "output_type": "execute_result"
    }
   ],
   "source": [
    "test_data[1]"
   ]
  },
  {
   "cell_type": "code",
   "execution_count": 118,
   "id": "596afc9e-eceb-4f9a-a6ac-e60286ac4a6e",
   "metadata": {},
   "outputs": [
    {
     "data": {
      "image/jpeg": "[encoded data removed]",
      "image/png": "[encoded data removed]",
      "text/plain": [
       "<PIL.Image.Image image mode=L size=28x28>"
      ]
     },
     "execution_count": 118,
     "metadata": {},
     "output_type": "execute_result"
    }
   ],
   "source": [
    "prediction = jax.nn.sigmoid(model(jnp.array(jnp.array(test_data[1]).reshape(-1)!=0, dtype=jnp.float32))[0]).reshape((28,28))\n",
    "bytes=(255*(prediction>0.5).astype(dtype=jnp.int8)).tobytes()\n",
    "Image.frombytes('L', data=bytes, size=(28,28))"
   ]
  },
  {
   "cell_type": "code",
   "execution_count": null,
   "id": "cdecbabf-c5ed-4974-b185-c9409d4ee981",
   "metadata": {},
   "outputs": [],
   "source": []
  }
 ],
 "metadata": {
  "kernelspec": {
   "display_name": "Python 3 (ipykernel)",
   "language": "python",
   "name": "python3"
  },
  "language_info": {
   "codemirror_mode": {
    "name": "ipython",
    "version": 3
   },
   "file_extension": ".py",
   "mimetype": "text/x-python",
   "name": "python",
   "nbconvert_exporter": "python",
   "pygments_lexer": "ipython3",
   "version": "3.12.3"
  }
 },
 "nbformat": 4,
 "nbformat_minor": 5
}
