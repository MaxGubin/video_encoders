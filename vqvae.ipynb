{
 "cells": [
  {
   "cell_type": "code",
   "execution_count": 1,
   "id": "03abe00f-74eb-4281-bb3f-05293f62d104",
   "metadata": {},
   "outputs": [],
   "source": [
    "# imports\n",
    "import jax\n",
    "from flax import nnx\n",
    "import optax\n",
    "import jax.numpy as jnp\n",
    "import dataclasses\n",
    "\n",
    "from typing import List"
   ]
  },
  {
   "cell_type": "code",
   "execution_count": 2,
   "id": "77f38ae2-8220-4bd1-9a5c-f883386b2659",
   "metadata": {},
   "outputs": [
    {
     "data": {
      "text/plain": [
       "[CudaDevice(id=0)]"
      ]
     },
     "execution_count": 2,
     "metadata": {},
     "output_type": "execute_result"
    }
   ],
   "source": [
    "jax.devices()"
   ]
  },
  {
   "cell_type": "markdown",
   "id": "98a8435f-4891-4df2-876b-596d28bb8bfd",
   "metadata": {},
   "source": [
    "# Configuration\n",
    "This model has more parameters, let's create a special class with configuration parameters"
   ]
  },
  {
   "cell_type": "markdown",
   "id": "45ce72fd-e413-41e1-aabb-02a7ddca136f",
   "metadata": {},
   "source": [
    "# Configuration\n",
    "This model has more parameters, let's create a special class with configuration parameters"
   ]
  },
  {
   "cell_type": "code",
   "execution_count": 31,
   "id": "3ef65a40-274c-4849-98ec-09c097237b48",
   "metadata": {},
   "outputs": [],
   "source": [
    "@dataclasses.dataclass\n",
    "class Config:\n",
    "    embedded_size:int = 64\n",
    "\n",
    "    # Image-related parameters\n",
    "    image_channels:int = 3\n",
    "    image_width:int = 256\n",
    "    image_height:int = 256\n",
    "\n",
    "    # Architecture related parameters\n",
    "    num_residual_hiddens:int = 128\n",
    "    num_residual_input:int = 32\n",
    "    num_residual_layers_encoder:int = 2\n",
    "\n",
    "    num_residual_layers_decoder:int = 2\n",
    "    # Dataset-related parameters\n",
    "    dataset_name:str = 'bitmind/ffhq-256_training_faces'\n",
    "    batch_size:int = 32\n",
    "    "
   ]
  },
  {
   "cell_type": "code",
   "execution_count": 4,
   "id": "231dc1b4-3b05-4801-81bd-fce12b08eddb",
   "metadata": {},
   "outputs": [],
   "source": [
    "class ResBlock(nnx.Module):\n",
    "    \"\"\"One block of the encoder with a residual connection\"\"\"\n",
    "    def __init__(self, config:Config, rngs: nnx.Rngs):\n",
    "        super().__init__()\n",
    "        self.config= config\n",
    "        self.conv1 = nnx.Conv(in_features=config.num_residual_input, out_features=config.num_residual_hiddens, kernel_size=(3,3), strides=1, padding='SAME', rngs=rngs)\n",
    "        self.conv2 = nnx.Conv(in_features=config.num_residual_hiddens, out_features=config.num_residual_input, kernel_size=(1,1), strides=1, padding='SAME', rngs=rngs)\n",
    "    def __call__(self, inputs:jax.Array):\n",
    "        out = self.conv1(inputs)\n",
    "        out = jax.nn.relu(out)\n",
    "        out = self.conv2(out)\n",
    "        out = jax.nn.relu(out)\n",
    "        return out+inputs\n",
    "    "
   ]
  },
  {
   "cell_type": "code",
   "execution_count": 33,
   "id": "7979431e-cb26-4427-8f15-7cc2cd203f5a",
   "metadata": {},
   "outputs": [],
   "source": [
    "rngs = nnx.Rngs(0)\n",
    "config = Config()\n",
    "res_block = ResBlock(config, rngs)"
   ]
  },
  {
   "cell_type": "code",
   "execution_count": 6,
   "id": "841f1bc9-a2f0-4c7e-a69d-a48574fe7819",
   "metadata": {},
   "outputs": [],
   "source": [
    "class Encoder(nnx.Module):\n",
    "    \"\"\"VQVAE encoder\"\"\"\n",
    "    def __init__(self, config: Config, rngs: nnx.Rngs):\n",
    "        super().__init__()\n",
    "        self.config = config\n",
    "        self.res_layers = [ResBlock(config, rngs) for _ in range(self.config.num_residual_layers_encoder)]\n",
    "        # Three convolutions that reduce resolution by 2 and increase internal \n",
    "        self.initial_conv1 = nnx.Conv(in_features=config.image_channels, out_features=config.num_residual_input//2, kernel_size=(4,4), strides=(2, 2), padding='SAME', rngs=rngs)\n",
    "        self.initial_conv2 = nnx.Conv(in_features=config.num_residual_input//2, out_features=config.num_residual_input, kernel_size=(4,4), strides=(2, 2), padding='SAME', rngs=rngs)\n",
    "        \n",
    "        \n",
    "    def __call__(self, input: jax.Array):\n",
    "        print('Input:', input.shape)\n",
    "        x = jax.nn.relu(self.initial_conv1(input))\n",
    "        print('E1 ', x.shape)\n",
    "        x = jax.nn.relu(self.initial_conv2(x))\n",
    "        print('E2 ', x.shape)\n",
    "        for i, l in enumerate(self.res_layers):\n",
    "            x = l(x)\n",
    "            print('R', i, x.shape)\n",
    "        # Flatten output into one vector\n",
    "        x = x.flatten()\n",
    "        print('O', x.shape)\n",
    "        return x"
   ]
  },
  {
   "cell_type": "code",
   "execution_count": 7,
   "id": "a73cff4e-c1ee-4bdd-9d2f-30a72de839ea",
   "metadata": {},
   "outputs": [],
   "source": [
    "rngs = nnx.Rngs(0)\n",
    "config = Config()\n",
    "encoder = Encoder(config, rngs)"
   ]
  },
  {
   "cell_type": "code",
   "execution_count": 8,
   "id": "06746828-eef9-4dfd-8a2f-60f2cf5027f6",
   "metadata": {},
   "outputs": [],
   "source": [
    "class Decoder(nnx.Module):\n",
    "    \"\"\" ... \"\"\"\n",
    "    def __init__(self, config: Config,  rngs: nnx.Rngs):\n",
    "        super().__init__()\n",
    "        self.config = config\n",
    "        self.res_layers = [ResBlock(config, rngs) for _ in range(self.config.num_residual_layers_decoder)]\n",
    "        self.conv_transpose1 = nnx.ConvTranspose(in_features=config.num_residual_input,out_features=config.num_residual_input//2, kernel_size=(4, 4), strides=2, padding=\"SAME\", rngs=rngs)\n",
    "        self.conv_transpose2 = nnx.ConvTranspose(in_features=config.num_residual_input//2, kernel_size=(4, 4),out_features=config.image_channels, strides=2, padding=\"SAME\", rngs=rngs)\n",
    "    def __call__(self, x: jax.Array):\n",
    "        # Unflatten the input\n",
    "        x = x.reshape((64, 64, -1))\n",
    "        for l in self.res_layers:\n",
    "            x = l(x)\n",
    "        print('1:', x.shape)\n",
    "        x = self.conv_transpose1(x)\n",
    "        print('2:', x.shape)\n",
    "        x = jax.nn.relu(x)\n",
    "        x = self.conv_transpose2(x)\n",
    "        return x"
   ]
  },
  {
   "cell_type": "code",
   "execution_count": 9,
   "id": "0bedafc3-771b-4391-9628-0900b728da9a",
   "metadata": {},
   "outputs": [],
   "source": [
    "rngs = nnx.Rngs(0)\n",
    "config = Config()\n",
    "decoder = Decoder(config, rngs)"
   ]
  },
  {
   "cell_type": "markdown",
   "id": "70f9f688-099f-48aa-947f-74c7358c32fe",
   "metadata": {},
   "source": [
    "# Datasets"
   ]
  },
  {
   "cell_type": "code",
   "execution_count": 10,
   "id": "4fc4c12a-647a-4d05-ae95-58417c4748f8",
   "metadata": {},
   "outputs": [],
   "source": [
    "import datasets\n",
    "from PIL import Image, ImageFile\n",
    "ImageFile.LOAD_TRUNCATED_IMAGES = True\n",
    "from IPython.display import display"
   ]
  },
  {
   "cell_type": "code",
   "execution_count": 12,
   "id": "00eae4e3-2048-4088-8af8-8b308136addd",
   "metadata": {},
   "outputs": [],
   "source": [
    "dataset = datasets.load_dataset(config.dataset_name, 'base_transforms', streaming=True)\n"
   ]
  },
  {
   "cell_type": "code",
   "execution_count": 13,
   "id": "d0e79e7b-abb7-4055-99e8-20ea15c2757d",
   "metadata": {},
   "outputs": [
    {
     "data": {
      "text/plain": [
       "IterableDatasetDict({\n",
       "    train: IterableDataset({\n",
       "        features: ['image', 'original_index', 'landmark', 'mask'],\n",
       "        n_shards: 14\n",
       "    })\n",
       "})"
      ]
     },
     "execution_count": 13,
     "metadata": {},
     "output_type": "execute_result"
    }
   ],
   "source": [
    "dataset"
   ]
  },
  {
   "cell_type": "code",
   "execution_count": 36,
   "id": "9a25ffa0-ceb6-4179-ad82-137cfa4bb972",
   "metadata": {},
   "outputs": [],
   "source": [
    "batched_data =  dataset['train'].batch(config.batch_size).map(lambda x: {\"x\": jnp.array([jnp.array(i) for i in x[\"image\"]])}, remove_columns=dataset[\"train\"].column_names, batched=True, batch_size=32)"
   ]
  },
  {
   "cell_type": "code",
   "execution_count": 39,
   "id": "6083195d-644f-4242-8ad0-8d118265bf00",
   "metadata": {},
   "outputs": [
    {
     "data": {
      "text/plain": [
       "(32, 256, 256, 3)"
      ]
     },
     "execution_count": 39,
     "metadata": {},
     "output_type": "execute_result"
    }
   ],
   "source": [
    "for i in batched_data:\n",
    "    image = i['x'] #Image.frombytes('RGB', data=i['x'].tobytes(), size=(256,256))\n",
    "    break\n",
    "image"
   ]
  },
  {
   "cell_type": "code",
   "execution_count": 40,
   "id": "629ec75a-df0f-4f12-b675-ce0144397ba8",
   "metadata": {},
   "outputs": [],
   "source": [
    "class EncoderDecoder(nnx.Module):\n",
    "    def __init__(self, config:Config,  rngs: nnx.Rngs):\n",
    "        super().__init__()\n",
    "        self.config = config\n",
    "        self.encoder = Encoder(config, rngs)\n",
    "        self.decoder = Decoder(config, rngs)\n",
    "    def __call__(self, in_image: jax.Array) -> List[jax.Array]:\n",
    "        encoded = self.encoder(in_image)\n",
    "        # TODO: add quantization\n",
    "        decoded = self.decoder(encoded)\n",
    "        return (decoded, encoded)\n",
    "        "
   ]
  },
  {
   "cell_type": "code",
   "execution_count": 41,
   "id": "d40bb2f7-6b19-4b3f-89b0-d885b2646cf5",
   "metadata": {},
   "outputs": [],
   "source": [
    "model = EncoderDecoder(config, rngs)"
   ]
  },
  {
   "cell_type": "code",
   "execution_count": 43,
   "id": "24470525-47bc-4300-9a6c-2611bbc68bdf",
   "metadata": {},
   "outputs": [
    {
     "name": "stdout",
     "output_type": "stream",
     "text": [
      "Input: (256, 256, 3)\n",
      "E1  (128, 128, 16)\n",
      "E2  (64, 64, 32)\n",
      "R 0 (64, 64, 32)\n",
      "R 1 (64, 64, 32)\n",
      "O (131072,)\n",
      "1: (64, 64, 32)\n",
      "2: (128, 128, 16)\n"
     ]
    },
    {
     "data": {
      "text/plain": [
       "(Array([[[[-3.56530094e+00, -3.03041697e-01,  8.68887901e-01],\n",
       "          [ 5.74235773e+00,  2.10232735e+00, -6.66455555e+00],\n",
       "          [ 7.78432846e+00, -2.96319580e+00,  2.71894455e+00],\n",
       "          ...,\n",
       "          [ 4.14463997e+00, -1.26242695e+01, -8.13631248e+00],\n",
       "          [ 7.70458317e+00, -1.51355820e+01,  1.22178793e+01],\n",
       "          [ 8.67223644e+00,  1.83337259e+00, -1.94448161e+00]],\n",
       " \n",
       "         [[ 1.43042631e+01,  1.92804050e+00,  2.29953337e+00],\n",
       "          [-9.73361206e+00,  1.16252680e+01, -1.11803761e+01],\n",
       "          [ 3.14358845e+01,  7.59307146e-01, -1.25363064e+01],\n",
       "          ...,\n",
       "          [-2.16495895e+01,  6.62523746e+00, -1.47581291e+00],\n",
       "          [ 2.95003510e+01,  1.37895527e+01, -6.79598856e+00],\n",
       "          [-2.03991394e+01,  2.95774937e+00, -1.13983774e+01]],\n",
       " \n",
       "         [[-6.03686142e+00, -3.52874017e+00,  1.42041245e+01],\n",
       "          [-1.10348177e+01, -4.97590542e+00,  3.22436738e+00],\n",
       "          [ 5.96610451e+00, -2.07357788e+01, -1.20878220e-01],\n",
       "          ...,\n",
       "          [-6.45638752e+00, -4.05275440e+00, -5.34064674e+00],\n",
       "          [-1.58063488e+01, -4.41252518e+00, -2.62316322e+00],\n",
       "          [ 1.09654055e+01, -9.54114437e-01, -4.48212671e+00]],\n",
       " \n",
       "         ...,\n",
       " \n",
       "         [[ 7.71788311e+00,  7.30872393e+00,  1.80489807e+01],\n",
       "          [-4.01654320e+01,  2.68007812e+01,  1.32244368e+01],\n",
       "          [ 6.74037094e+01,  9.92319107e+00, -3.52506523e+01],\n",
       "          ...,\n",
       "          [-5.48800774e+01, -3.07196474e+00, -3.16313896e+01],\n",
       "          [ 5.10898323e+01,  1.29041920e+01, -2.70112934e+01],\n",
       "          [-1.62484875e+01, -1.29053032e+00, -7.12924957e-01]],\n",
       " \n",
       "         [[-6.24666929e+00, -1.78754973e+00,  2.47451134e+01],\n",
       "          [ 1.81571503e+01, -2.45626640e+01,  7.67430019e+00],\n",
       "          [ 4.86610985e+01, -3.57768822e+00, -1.76617184e+01],\n",
       "          ...,\n",
       "          [-6.74938107e+00, -2.49839497e+01,  7.69018269e+00],\n",
       "          [-1.15975952e+01, -3.32081871e+01, -1.15483618e+01],\n",
       "          [-1.30747318e-01,  5.97604275e+00,  7.86813736e-01]],\n",
       " \n",
       "         [[ 1.26711664e+01, -1.81866312e+00,  1.44220638e+00],\n",
       "          [-2.90782166e+01, -3.80512619e+00,  7.60995865e+00],\n",
       "          [ 2.02753124e+01, -1.06202202e+01,  4.15607643e+00],\n",
       "          ...,\n",
       "          [-4.10434341e+00,  2.20162239e+01,  8.19793129e+00],\n",
       "          [ 1.30523720e+01, -2.45469284e+00, -9.24981785e+00],\n",
       "          [-3.30239010e+00,  3.34172964e+00, -5.46743965e+00]]],\n",
       " \n",
       " \n",
       "        [[[-1.15672126e-04,  4.70341183e-05,  1.31499022e-04],\n",
       "          [ 9.01371241e-05,  4.80245799e-05, -1.59360468e-04],\n",
       "          [-6.72638416e-05,  6.19888306e-05,  7.78352842e-05],\n",
       "          ...,\n",
       "          [ 7.69481994e-06, -1.58094335e-03, -1.95241533e-04],\n",
       "          [ 1.75235909e-04, -1.09772803e-03,  9.44607425e-04],\n",
       "          [ 5.88835683e-05, -3.31202464e-05, -1.88910344e-05]],\n",
       " \n",
       "         [[ 9.20983031e-04, -8.08946788e-05, -4.65366989e-04],\n",
       "          [-4.51598316e-05,  2.03326344e-04, -2.06923485e-03],\n",
       "          [ 1.73388422e-03,  1.14239752e-04, -2.31076777e-03],\n",
       "          ...,\n",
       "          [-7.52670690e-04,  2.38540489e-03, -9.91114415e-04],\n",
       "          [ 9.73241404e-04, -5.63357025e-05,  1.61770731e-06],\n",
       "          [-4.87798243e-04,  1.64611716e-04, -2.62646703e-04]],\n",
       " \n",
       "         [[ 6.05225563e-04, -4.63841483e-04,  2.49452889e-04],\n",
       "          [ 1.03181787e-03,  3.57657671e-04,  5.54786995e-04],\n",
       "          [ 1.23494864e-03, -2.02354789e-03,  4.62383032e-05],\n",
       "          ...,\n",
       "          [ 7.81422714e-05, -1.07851345e-03, -4.96804190e-04],\n",
       "          [-1.45929097e-03,  3.55944037e-04, -2.20614485e-04],\n",
       "          [ 3.91376641e-04,  3.92770744e-05, -8.72555538e-05]],\n",
       " \n",
       "         ...,\n",
       " \n",
       "         [[ 3.71427462e-03,  3.27304006e-04,  3.72087583e-04],\n",
       "          [-1.42013244e-02,  1.56684183e-02,  9.12762620e-03],\n",
       "          [ 3.35503072e-02,  2.27535330e-03,  1.76655799e-02],\n",
       "          ...,\n",
       "          [-1.76483154e-01,  1.11855149e-01, -7.09943771e-02],\n",
       "          [ 2.48532295e-01,  5.44598699e-02, -2.89723873e-02],\n",
       "          [-6.45089149e-02, -5.17565012e-03, -3.07112932e-02]],\n",
       " \n",
       "         [[ 1.54853857e-03,  2.92022224e-03, -2.67569500e-04],\n",
       "          [ 1.26418117e-02, -3.94818094e-03, -2.65712738e-02],\n",
       "          [ 4.31638807e-02, -1.03344433e-02,  9.80746839e-03],\n",
       "          ...,\n",
       "          [ 8.16302299e-02, -2.12628841e-01, -5.51240444e-02],\n",
       "          [-1.56226635e-01, -5.61084747e-02, -5.91579676e-02],\n",
       "          [-9.46148634e-02, -1.43290758e-02, -3.32739353e-02]],\n",
       " \n",
       "         [[ 5.02136303e-04,  4.94145381e-04, -2.27693585e-04],\n",
       "          [ 2.99235061e-03,  1.71457827e-02,  1.39905550e-02],\n",
       "          [ 3.19654159e-02,  1.17908418e-03,  1.35692563e-02],\n",
       "          ...,\n",
       "          [ 1.63364410e-03,  1.68919563e-03,  2.52746344e-02],\n",
       "          [ 1.83503628e-02, -1.35778189e-02, -8.95977020e-03],\n",
       "          [-1.30128860e-03,  3.11040878e-03,  6.91413879e-04]]],\n",
       " \n",
       " \n",
       "        [[[-1.39795363e-01, -1.37314558e-01,  1.25543594e-01],\n",
       "          [ 7.43531942e-01,  2.33776093e-01, -5.45176744e-01],\n",
       "          [ 3.86207581e-01,  6.65283203e-02,  3.69971514e-01],\n",
       "          ...,\n",
       "          [ 1.64057255e+00, -2.49142742e+00, -2.26465702e-01],\n",
       "          [ 1.81260085e+00, -3.00625610e+00,  1.07110882e+00],\n",
       "          [ 5.49995542e-01,  1.29330575e-01, -1.58514351e-01]],\n",
       " \n",
       "         [[ 1.25839806e+00, -4.56179380e-01,  4.23585892e-01],\n",
       "          [-2.95850754e-01,  1.00953865e+00, -1.77564716e+00],\n",
       "          [ 3.05231094e+00, -2.85069466e-01, -2.06836700e+00],\n",
       "          ...,\n",
       "          [-4.88487530e+00,  2.26671028e+00, -2.30967832e+00],\n",
       "          [ 3.39832687e+00, -3.85508120e-01, -1.24796939e+00],\n",
       "          [-1.53974319e+00,  1.79601461e-01, -9.35934186e-01]],\n",
       " \n",
       "         [[-5.40593624e-01, -4.28568363e-01,  2.90287018e-01],\n",
       "          [ 3.92142892e-01,  6.84692383e-01,  1.49564266e+00],\n",
       "          [ 1.88894653e+00, -3.99421501e+00, -4.80850697e-01],\n",
       "          ...,\n",
       "          [-9.93111074e-01, -1.75947273e+00, -1.85566401e+00],\n",
       "          [-4.00020123e+00,  1.66988802e+00, -6.91901684e-01],\n",
       "          [ 6.90199792e-01, -1.67588294e-01, -8.50674808e-02]],\n",
       " \n",
       "         ...,\n",
       " \n",
       "         [[-6.11935616e-01, -3.29307407e-01,  2.47093558e+00],\n",
       "          [-2.84182954e+00,  4.74351883e+00,  2.13257551e+00],\n",
       "          [ 6.37339878e+00, -6.00372791e-01, -2.18768072e+00],\n",
       "          ...,\n",
       "          [-1.14958382e+01, -1.58103848e+00, -6.28620815e+00],\n",
       "          [ 1.04595985e+01, -1.18417740e-02, -4.87998104e+00],\n",
       "          [-2.44909859e+00, -2.04309881e-01,  8.75755548e-01]],\n",
       " \n",
       "         [[-1.20148695e+00, -5.18028617e-01,  2.58368397e+00],\n",
       "          [ 8.97237122e-01, -1.30874491e+00, -4.08197641e-02],\n",
       "          [ 6.73629618e+00, -1.78918552e+00, -2.51950473e-01],\n",
       "          ...,\n",
       "          [-6.16970062e-01, -7.93439770e+00,  5.32618904e+00],\n",
       "          [ 3.92133713e+00, -1.00471697e+01, -5.99302435e+00],\n",
       "          [-1.27867174e+00,  1.67103839e+00, -8.47105980e-02]],\n",
       " \n",
       "         [[ 1.33342993e+00, -1.85036659e-03,  1.78404450e-01],\n",
       "          [-3.96233225e+00,  2.87143707e-01,  2.23309159e+00],\n",
       "          [ 4.36310291e+00, -1.70378590e+00,  5.61177492e-01],\n",
       "          ...,\n",
       "          [-2.34526157e+00,  6.40027046e-01,  2.12564039e+00],\n",
       "          [ 3.22514105e+00, -1.45038974e+00, -1.61396027e+00],\n",
       "          [-6.68717861e-01,  6.61508560e-01, -1.42221785e+00]]],\n",
       " \n",
       " \n",
       "        ...,\n",
       " \n",
       " \n",
       "        [[[-1.45139694e-02,  4.10586596e-03,  9.04893875e-03],\n",
       "          [ 9.77659225e-03,  1.31320953e-03, -1.60262585e-02],\n",
       "          [-7.84873962e-04,  3.18241119e-03,  1.22028589e-02],\n",
       "          ...,\n",
       "          [ 9.00748014e-01, -1.72096348e+00, -3.95177364e-01],\n",
       "          [ 1.04035175e+00, -1.27262592e+00,  1.46086168e+00],\n",
       "          [ 4.16842043e-01,  2.48099267e-02, -1.49349928e-01]],\n",
       " \n",
       "         [[ 6.18355274e-02, -2.76160240e-03, -1.82566643e-02],\n",
       "          [-2.59876251e-04,  1.82495117e-02, -1.50024891e-01],\n",
       "          [ 1.48824692e-01, -1.58431530e-02, -1.07412815e-01],\n",
       "          ...,\n",
       "          [-1.86006212e+00,  2.80870390e+00, -1.08268785e+00],\n",
       "          [ 1.49321651e+00,  5.28776646e-03, -5.01536906e-01],\n",
       "          [-1.21247482e+00,  2.87134111e-01, -6.60920262e-01]],\n",
       " \n",
       "         [[ 3.08802128e-02, -3.83943319e-02,  1.21006966e-02],\n",
       "          [ 1.97730064e-02,  2.76117325e-02,  4.10490036e-02],\n",
       "          [ 1.10384941e-01, -2.22692490e-01, -7.01904297e-03],\n",
       "          ...,\n",
       "          [ 5.27279973e-02,  4.07459736e-01, -2.76758224e-01],\n",
       "          [-9.85690832e-01,  1.15500975e+00,  1.20211792e+00],\n",
       "          [ 6.92331910e-01,  1.19135857e-01, -1.09388247e-01]],\n",
       " \n",
       "         ...,\n",
       " \n",
       "         [[ 8.38783383e-03, -4.81335819e-03,  1.19514912e-02],\n",
       "          [-6.19533658e-03,  1.05185471e-01,  2.10955739e-02],\n",
       "          [ 1.21935308e-01,  3.09998542e-03,  1.00599512e-01],\n",
       "          ...,\n",
       "          [-1.97491956e+00, -6.75551891e-02, -3.55205774e-01],\n",
       "          [ 1.61008978e+00, -4.17550683e-01, -9.00271773e-01],\n",
       "          [-8.46472502e-01, -1.16209149e-01, -2.87348151e-01]],\n",
       " \n",
       "         [[-1.16954371e-03,  1.42490081e-02,  5.82467765e-04],\n",
       "          [ 8.38543288e-03,  1.16720684e-02, -8.08578804e-02],\n",
       "          [ 1.73295498e-01, -3.20837647e-02,  1.92428231e-02],\n",
       "          ...,\n",
       "          [-8.98428559e-02, -5.46050787e-01,  5.75872183e-01],\n",
       "          [-5.10407686e-01, -1.54824257e+00, -3.35742116e-01],\n",
       "          [ 1.40231609e-01, -1.05110347e-01,  2.56236017e-01]],\n",
       " \n",
       "         [[-3.92396003e-04,  1.67177455e-03,  1.07628107e-03],\n",
       "          [-1.20699406e-02,  6.50558025e-02,  6.17921501e-02],\n",
       "          [ 1.01501167e-01, -1.25547685e-03,  4.91247177e-02],\n",
       "          ...,\n",
       "          [-5.49530983e-02,  1.04937077e-01,  8.91473293e-02],\n",
       "          [ 9.61741209e-02, -1.58397675e-01, -5.89156151e-02],\n",
       "          [-8.23020935e-02,  1.19323611e-01, -9.16845798e-02]]],\n",
       " \n",
       " \n",
       "        [[[-2.47985125e-04,  1.47670507e-04,  2.98500061e-04],\n",
       "          [ 2.65240669e-04,  2.12311745e-04, -4.95240092e-04],\n",
       "          [-1.40070915e-04,  2.12073326e-04,  2.48342752e-04],\n",
       "          ...,\n",
       "          [ 7.63908960e-04, -1.69025380e-02,  6.42731786e-04],\n",
       "          [ 3.62389535e-03, -1.21542253e-02,  6.74740132e-03],\n",
       "          [ 5.93614997e-04, -5.75995073e-05, -3.71480070e-04]],\n",
       " \n",
       "         [[ 6.67947531e-03,  1.56968832e-04, -4.17941809e-03],\n",
       "          [-1.00851059e-04,  1.55544281e-03, -8.00597668e-03],\n",
       "          [ 6.51836395e-03,  5.97238541e-04, -1.09568983e-02],\n",
       "          ...,\n",
       "          [-1.29189827e-02,  1.78779811e-02, -6.18317351e-03],\n",
       "          [ 6.34850562e-03,  3.52047943e-03, -1.56243611e-03],\n",
       "          [-3.69922258e-03,  1.01232622e-03, -1.59025285e-03]],\n",
       " \n",
       "         [[ 3.61773372e-03, -2.46919692e-03,  6.85811043e-04],\n",
       "          [ 7.46834278e-03,  1.54316425e-03, -6.00516796e-04],\n",
       "          [ 4.37021255e-03, -7.24053383e-03, -8.49887729e-04],\n",
       "          ...,\n",
       "          [ 5.02178073e-03, -1.03078224e-03,  3.93154845e-03],\n",
       "          [-1.74148008e-03, -1.34328846e-03,  1.31005328e-03],\n",
       "          [ 2.51245126e-03,  1.03431987e-04, -3.48876929e-04]],\n",
       " \n",
       "         ...,\n",
       " \n",
       "         [[ 4.45570331e-03, -4.80858609e-04,  5.38675673e-03],\n",
       "          [-1.40800895e-02,  6.93474635e-02, -7.58552924e-04],\n",
       "          [ 7.27003664e-02, -6.11085445e-04,  2.77932640e-02],\n",
       "          ...,\n",
       "          [-4.29422736e-01,  2.32367516e-02, -1.10335946e-01],\n",
       "          [ 3.07724237e-01, -3.44749689e-02, -2.28186488e-01],\n",
       "          [-1.43971086e-01,  1.74028948e-02, -5.81825078e-02]],\n",
       " \n",
       "         [[ 9.04610613e-04,  2.21876614e-03,  5.43973595e-03],\n",
       "          [ 1.51637113e-02, -4.63738479e-03, -2.64399946e-02],\n",
       "          [ 8.61430392e-02,  2.79255491e-03, -2.57323869e-03],\n",
       "          ...,\n",
       "          [ 2.09974647e-02, -1.78838551e-01,  1.50476456e-01],\n",
       "          [-1.02209330e-01, -3.28491330e-01, -1.62850738e-01],\n",
       "          [ 6.08812571e-02,  2.60770321e-03,  2.08939612e-02]],\n",
       " \n",
       "         [[ 4.25616326e-03,  9.78582888e-04,  5.05181029e-04],\n",
       "          [-1.33013539e-02,  1.52341202e-02,  3.19596305e-02],\n",
       "          [ 7.09684268e-02, -4.02413867e-03,  1.40913017e-02],\n",
       "          ...,\n",
       "          [-7.02142715e-04,  3.42611670e-02,  4.75505888e-02],\n",
       "          [ 3.28155756e-02, -4.14029285e-02, -3.89758945e-02],\n",
       "          [-7.83801079e-03,  2.88274288e-02, -2.58186460e-02]]],\n",
       " \n",
       " \n",
       "        [[[-2.13661194e-02, -6.79215789e-03,  1.48539543e-02],\n",
       "          [ 3.27013135e-02, -1.24785900e-02, -1.84901357e-02],\n",
       "          [ 3.27358246e-02, -1.65426731e-02,  2.73952484e-02],\n",
       "          ...,\n",
       "          [ 1.42789990e-01, -1.67073727e-01, -1.06977850e-01],\n",
       "          [ 8.76139104e-02, -1.54174209e-01, -1.58343613e-02],\n",
       "          [ 4.79293540e-02,  7.16347247e-04, -1.80375092e-02]],\n",
       " \n",
       "         [[ 1.17595553e-01, -2.67958343e-02, -1.24112964e-02],\n",
       "          [-5.60057163e-02,  1.16313696e-01, -1.29083753e-01],\n",
       "          [ 1.53594971e-01,  7.49411583e-02, -2.52169609e-01],\n",
       "          ...,\n",
       "          [-4.04233217e-01,  2.92671382e-01, -1.24634787e-01],\n",
       "          [ 3.13047826e-01, -1.18442252e-02, -4.84159738e-02],\n",
       "          [-1.87044859e-01,  3.17216031e-02, -9.43661034e-02]],\n",
       " \n",
       "         [[ 1.19817257e-03, -2.22422481e-02,  2.27408409e-02],\n",
       "          [ 1.21288940e-01,  3.31046581e-02,  7.18117356e-02],\n",
       "          [ 1.76333189e-01, -3.50639343e-01, -5.70309162e-02],\n",
       "          ...,\n",
       "          [-1.88444741e-03, -8.22511315e-03, -4.28011715e-02],\n",
       "          [-2.02644885e-01,  4.37637866e-02,  7.87345618e-02],\n",
       "          [ 8.64611417e-02,  1.42257698e-02, -1.13697965e-02]],\n",
       " \n",
       "         ...,\n",
       " \n",
       "         [[-6.01217747e-01, -3.83510470e-01,  2.32690597e+00],\n",
       "          [-3.00059772e+00,  4.28687000e+00,  1.55179679e+00],\n",
       "          [ 5.46704006e+00, -4.21448082e-01, -2.49581242e+00],\n",
       "          ...,\n",
       "          [-2.09151125e+00, -8.47210050e-01, -9.82921302e-01],\n",
       "          [ 2.24708414e+00, -3.89949501e-01, -1.77063656e+00],\n",
       "          [-6.11267686e-01, -3.77736926e-01,  1.97992861e-01]],\n",
       " \n",
       "         [[-9.16782200e-01, -6.49528027e-01,  2.62844777e+00],\n",
       "          [ 1.17495561e+00, -8.84596229e-01, -5.61587811e-02],\n",
       "          [ 6.28809404e+00, -1.74358916e+00, -6.29858017e-01],\n",
       "          ...,\n",
       "          [ 6.05641603e-02, -2.04058075e+00,  8.85369897e-01],\n",
       "          [-3.26112866e-01, -2.69497895e+00, -7.51022518e-01],\n",
       "          [-4.58162129e-02,  3.59584272e-01,  4.03913319e-01]],\n",
       " \n",
       "         [[ 1.27497947e+00, -5.64115644e-02,  2.14769363e-01],\n",
       "          [-3.70757532e+00,  6.66594505e-02,  2.04593110e+00],\n",
       "          [ 4.26916647e+00, -1.41760492e+00,  3.71525764e-01],\n",
       "          ...,\n",
       "          [-3.31408739e-01,  5.34457326e-01,  5.29492736e-01],\n",
       "          [ 8.29035878e-01, -2.74483860e-02, -7.00140715e-01],\n",
       "          [-6.25548363e-02,  2.47469783e-01, -4.51890230e-01]]]],      dtype=float32),\n",
       " Array([[2.4621082e+01, 9.3731613e+01, 1.6625743e+00, ..., 9.1010834e+01,\n",
       "         5.4255653e+01, 0.0000000e+00],\n",
       "        [0.0000000e+00, 0.0000000e+00, 0.0000000e+00, ..., 0.0000000e+00,\n",
       "         0.0000000e+00, 0.0000000e+00],\n",
       "        [0.0000000e+00, 0.0000000e+00, 0.0000000e+00, ..., 5.6933861e+01,\n",
       "         2.1141994e+01, 4.5605302e+00],\n",
       "        ...,\n",
       "        [0.0000000e+00, 0.0000000e+00, 0.0000000e+00, ..., 1.4790615e+00,\n",
       "         6.1374366e-01, 3.1069723e-01],\n",
       "        [0.0000000e+00, 0.0000000e+00, 0.0000000e+00, ..., 1.1181982e-01,\n",
       "         7.9265758e-02, 5.1885348e-02],\n",
       "        [0.0000000e+00, 0.0000000e+00, 0.0000000e+00, ..., 7.7220573e+00,\n",
       "         2.3268411e+00, 1.5939955e-01]], dtype=float32))"
      ]
     },
     "execution_count": 43,
     "metadata": {},
     "output_type": "execute_result"
    }
   ],
   "source": [
    "jax.vmap(model)(image)"
   ]
  },
  {
   "cell_type": "markdown",
   "id": "421897af-66c3-4da9-926b-6110c9b0d1fc",
   "metadata": {},
   "source": [
    "# Training"
   ]
  },
  {
   "cell_type": "code",
   "execution_count": 45,
   "id": "52576303-2f91-4ba2-ae0e-75a26c1141fa",
   "metadata": {},
   "outputs": [],
   "source": [
    "def image_loss(orig, restored):\n",
    "    return jax.numpy.mean((orig-restored)**2)"
   ]
  },
  {
   "cell_type": "code",
   "execution_count": 46,
   "id": "cf2814d1-f33f-4bed-ae71-0db923698daa",
   "metadata": {},
   "outputs": [],
   "source": [
    "tx = optax.adam(0.001)\n",
    "optimizer = nnx.Optimizer(model, tx)"
   ]
  },
  {
   "cell_type": "code",
   "execution_count": 55,
   "id": "44a13241-85ec-4bdb-b4eb-13fcf5eb7dc6",
   "metadata": {},
   "outputs": [],
   "source": [
    "def loss_fn(model, data):\n",
    "    restored, _ = jax.vmap(model)(data)\n",
    "    loss = image_loss(data, restored)\n",
    "    return loss"
   ]
  },
  {
   "cell_type": "code",
   "execution_count": 56,
   "id": "87eaf21d-4724-4ee2-a19d-087f17825a86",
   "metadata": {},
   "outputs": [],
   "source": [
    "@nnx.jit\n",
    "def train_step(model: EncoderDecoder, optimizer: nnx.Optimizer, metrics: nnx.MultiMetric, data):\n",
    "    grad_fn = nnx.value_and_grad(loss_fn)\n",
    "    loss, grads = grad_fn(model, data)\n",
    "    optimizer.update(grads)\n",
    "    metrics.update(loss=loss)"
   ]
  },
  {
   "cell_type": "code",
   "execution_count": 57,
   "id": "403d5be9-ca33-445c-a44e-472ec1a1fde9",
   "metadata": {},
   "outputs": [],
   "source": [
    "metrics = nnx.MultiMetric(\n",
    "  loss=nnx.metrics.Average('loss'),\n",
    ")"
   ]
  },
  {
   "cell_type": "code",
   "execution_count": null,
   "id": "481e9deb-f5ec-4f27-bdba-fe6b927a424f",
   "metadata": {},
   "outputs": [
    {
     "name": "stdout",
     "output_type": "stream",
     "text": [
      "[('loss', Array(15087.221, dtype=float32))]\n",
      "[('loss', Array(1794.9474, dtype=float32))]\n",
      "[('loss', Array(1019.8223, dtype=float32))]\n",
      "[('loss', Array(731.798, dtype=float32))]\n",
      "[('loss', Array(578.14636, dtype=float32))]\n",
      "[('loss', Array(481.87878, dtype=float32))]\n",
      "[('loss', Array(414.52884, dtype=float32))]\n"
     ]
    }
   ],
   "source": [
    "for step, batch in enumerate(batched_data):\n",
    "    data = batch['x']\n",
    "    train_step(model, optimizer, metrics, data)\n",
    "    if step%100 == 0:\n",
    "        print([(m, v) for m,v in metrics.compute().items()])"
   ]
  },
  {
   "cell_type": "code",
   "execution_count": null,
   "id": "b3ebec5d-ce7d-4591-9835-52450af8a602",
   "metadata": {},
   "outputs": [],
   "source": []
  }
 ],
 "metadata": {
  "kernelspec": {
   "display_name": "Python 3 (ipykernel)",
   "language": "python",
   "name": "python3"
  },
  "language_info": {
   "codemirror_mode": {
    "name": "ipython",
    "version": 3
   },
   "file_extension": ".py",
   "mimetype": "text/x-python",
   "name": "python",
   "nbconvert_exporter": "python",
   "pygments_lexer": "ipython3",
   "version": "3.12.3"
  }
 },
 "nbformat": 4,
 "nbformat_minor": 5
}
