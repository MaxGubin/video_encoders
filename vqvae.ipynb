{
 "cells": [
  {
   "cell_type": "code",
   "execution_count": 1,
   "id": "500ad03c-21a0-4dc4-aaed-692d7c42d4d6",
   "metadata": {},
   "outputs": [],
   "source": [
    "import jax"
   ]
  },
  {
   "cell_type": "code",
   "execution_count": 2,
   "id": "08811524-e39e-428a-8404-050cb951e292",
   "metadata": {},
   "outputs": [
    {
     "data": {
      "text/plain": [
       "[CudaDevice(id=0)]"
      ]
     },
     "execution_count": 2,
     "metadata": {},
     "output_type": "execute_result"
    }
   ],
   "source": [
    "jax.devices()"
   ]
  },
  {
   "cell_type": "code",
   "execution_count": 3,
   "id": "b9d0c4f5-5601-4d35-8973-fb0c9985a22a",
   "metadata": {},
   "outputs": [],
   "source": [
    "from flax import nnx\n",
    "import optax\n",
    "import jax.numpy as jnp\n"
   ]
  },
  {
   "cell_type": "code",
   "execution_count": 4,
   "id": "3b88b234-4124-448d-a394-0798ecb55ef5",
   "metadata": {},
   "outputs": [],
   "source": [
    "class Encoder(nnx.Module):\n",
    "    \"\"\"VAE Encoder\"\"\"\n",
    "    def __init__(self, latent_dim: int, image_flatten_dim: int, internal_dim:int, rngs: nnx.Rngs):\n",
    "        self.dense_layer = nnx.Linear(in_features=image_flatten_dim, out_features=internal_dim, rngs=rngs)\n",
    "        self.mean_layer = nnx.Linear(in_features=internal_dim, out_features=latent_dim, rngs=rngs)\n",
    "        self.logvar_layer = nnx.Linear(in_features=internal_dim, out_features=latent_dim, rngs=rngs)\n",
    "    def __call__(self, x: jax.Array):\n",
    "        x = self.dense_layer(x)\n",
    "        x = jax.nn.relu(x)\n",
    "        means = self.mean_layer(x)\n",
    "        logvars = self.logvar_layer(x)\n",
    "        return (means, logvars)\n",
    "        "
   ]
  },
  {
   "cell_type": "code",
   "execution_count": 5,
   "id": "dfd90361-01ab-4ad5-ac47-cd048af70466",
   "metadata": {},
   "outputs": [],
   "source": [
    "class Decoder(nnx.Module):\n",
    "    \"\"\"VAE Decoder\"\"\"\n",
    "    def __init__(self, latent_dim: int, image_flatten_dim: int, internal_dim:int, rngs: nnx.Rngs):\n",
    "        self.dense_layer1 = nnx.Linear(in_features=latent_dim, out_features=internal_dim, rngs=rngs)\n",
    "        self.dense_layer2 = nnx.Linear(in_features=internal_dim, out_features=image_flatten_dim, rngs=rngs)\n",
    "    def __call__(self, x: jax.Array):\n",
    "        x = self.dense_layer1(x)\n",
    "        x = jax.nn.relu(x)\n",
    "        x = self.dense_layer2(x)\n",
    "        return x"
   ]
  },
  {
   "cell_type": "code",
   "execution_count": 6,
   "id": "70368b6e-373e-451a-b36a-d83c2d8229fd",
   "metadata": {},
   "outputs": [],
   "source": [
    "class VAE(nnx.Module):\n",
    "    \"\"\"VAE together\"\"\"\n",
    "    def __init__(self, latent_dim:int, image_flatten_dim:int, internal_dim:int, rngs: nnx.Rngs):\n",
    "        self.encoder = Encoder(latent_dim=latent_dim, image_flatten_dim=image_flatten_dim, internal_dim=internal_dim, rngs=rngs)\n",
    "        self.decoder = Decoder(latent_dim=latent_dim, image_flatten_dim=image_flatten_dim, internal_dim=internal_dim, rngs=rngs)\n",
    "        self.random_for_reparam = rngs.reparam()\n",
    "    def __call__(self, x: jax.Array):\n",
    "        mean, logvar = self.encoder(x)\n",
    "        x = self.reparam(mean, logvar)\n",
    "        x = self.decoder(x)\n",
    "        return x, mean, logvar\n",
    "\n",
    "    def reparam(self, mean: jax.Array, logvars: jax.Array):\n",
    "        std = jnp.exp(logvars/2.0)\n",
    "        eps = jax.random.normal(self.random_for_reparam, logvars.shape)\n",
    "        return mean + eps*std\n",
    "        "
   ]
  },
  {
   "cell_type": "markdown",
   "id": "ed818482-cdbf-452c-b3a2-14efa50817c2",
   "metadata": {},
   "source": [
    "# Create Datasets"
   ]
  },
  {
   "cell_type": "code",
   "execution_count": 8,
   "id": "1155ccb4-ac94-4a46-9e7a-4e0bc3ef8168",
   "metadata": {},
   "outputs": [],
   "source": [
    "import datasets\n",
    "from PIL import Image\n",
    "from IPython.display import display"
   ]
  },
  {
   "cell_type": "code",
   "execution_count": 9,
   "id": "af619334-4a75-4446-b24e-9107215057fb",
   "metadata": {},
   "outputs": [],
   "source": [
    "dataset = datasets.load_dataset(\"ylecun/mnist\")"
   ]
  },
  {
   "cell_type": "code",
   "execution_count": 10,
   "id": "9ff0cc25-4475-4edd-9fb8-be2550371415",
   "metadata": {},
   "outputs": [],
   "source": [
    "fl = dataset[\"train\"][\"image\"][0]"
   ]
  },
  {
   "cell_type": "code",
   "execution_count": 11,
   "id": "2e8bdead-7dc4-4e26-ab09-50089f41a0fd",
   "metadata": {},
   "outputs": [
    {
     "data": {
      "text/plain": [
       "Array([[1, 2],\n",
       "       [3, 4]], dtype=int32)"
      ]
     },
     "execution_count": 11,
     "metadata": {},
     "output_type": "execute_result"
    }
   ],
   "source": [
    "jnp.array([jnp.array([1,2]), jnp.array([3,4])])"
   ]
  },
  {
   "cell_type": "code",
   "execution_count": 12,
   "id": "914aa9b2-3807-4062-9df9-37744a19576e",
   "metadata": {},
   "outputs": [],
   "source": [
    "iter_data = dataset[\"train\"].map(lambda x: {\"x\": jnp.array([jnp.array(i) for i in x[\"image\"]])}, remove_columns=dataset[\"train\"].column_names, batched=True, batch_size=32)"
   ]
  },
  {
   "cell_type": "markdown",
   "id": "7af2b38a-fbf6-478a-a49b-f364cc6b348a",
   "metadata": {},
   "source": [
    "# Training"
   ]
  },
  {
   "cell_type": "code",
   "execution_count": 13,
   "id": "5a433da9-fc8f-4880-bebe-84e0b63a2216",
   "metadata": {},
   "outputs": [],
   "source": [
    "def kl_divergence(mean, logvar):\n",
    "  return -0.5 * jnp.sum(1 + logvar - jnp.square(mean) - jnp.exp(logvar))"
   ]
  },
  {
   "cell_type": "code",
   "execution_count": 14,
   "id": "551b7e7e-182c-4f83-b5a9-e76c9c0ecc4f",
   "metadata": {},
   "outputs": [],
   "source": [
    "def reconstruct_loss(logits, labels):\n",
    "    logits = jax.nn.log_sigmoid(logits)\n",
    "    return -jnp.sum(\n",
    "        labels * logits + (1.0 - labels) * jnp.log(-jnp.expm1(logits))\n",
    "    )"
   ]
  },
  {
   "cell_type": "code",
   "execution_count": 56,
   "id": "2702d12a-7ce9-4c7b-9682-5aed560c75ad",
   "metadata": {},
   "outputs": [],
   "source": [
    "model = VAE(10, 28*28, 256, nnx.Rngs(0))\n",
    "tx = optax.adam(0.001)\n",
    "optimizer = nnx.Optimizer(model, tx)"
   ]
  },
  {
   "cell_type": "code",
   "execution_count": 57,
   "id": "cdd4579b-8881-41be-9784-984dd431a612",
   "metadata": {},
   "outputs": [],
   "source": [
    "def loss_fn(model, data):\n",
    "    logits, mean, logvar = model(data)\n",
    "    divergence = kl_divergence(mean, logvar)\n",
    "    reconstruct = reconstruct_loss(logits, data)\n",
    "    return divergence + reconstruct\n"
   ]
  },
  {
   "cell_type": "code",
   "execution_count": 58,
   "id": "fa86610f-2a64-47c8-af14-62a5bf4cde2a",
   "metadata": {},
   "outputs": [],
   "source": [
    "@nnx.jit\n",
    "def train_step(model: VAE, optimizer: nnx.Optimizer, metrics: nnx.MultiMetric, data):\n",
    "    grad_fn = nnx.value_and_grad(loss_fn)\n",
    "    loss, grads = grad_fn(model, data)\n",
    "    optimizer.update(grads)\n",
    "    metrics.update(loss=loss)\n",
    "    "
   ]
  },
  {
   "cell_type": "code",
   "execution_count": 59,
   "id": "514e1f5d-ed5b-4f12-8a12-617f5dbadcf7",
   "metadata": {},
   "outputs": [],
   "source": [
    "metrics = nnx.MultiMetric(\n",
    "  loss=nnx.metrics.Average('loss'),\n",
    ")"
   ]
  },
  {
   "cell_type": "code",
   "execution_count": null,
   "id": "a127a325-cee8-405b-8343-a6f8e2208619",
   "metadata": {},
   "outputs": [
    {
     "name": "stdout",
     "output_type": "stream",
     "text": [
      "[('loss', Array(575.17694, dtype=float32))]\n",
      "[('loss', Array(281.07352, dtype=float32))]\n",
      "[('loss', Array(246.1563, dtype=float32))]\n",
      "[('loss', Array(224.60246, dtype=float32))]\n",
      "[('loss', Array(211.2912, dtype=float32))]\n",
      "[('loss', Array(201.82716, dtype=float32))]\n",
      "[('loss', Array(193.93852, dtype=float32))]\n",
      "[('loss', Array(187.81042, dtype=float32))]\n",
      "[('loss', Array(183.12224, dtype=float32))]\n",
      "[('loss', Array(179.56364, dtype=float32))]\n",
      "[('loss', Array(175.11894, dtype=float32))]\n",
      "[('loss', Array(171.52403, dtype=float32))]\n",
      "[('loss', Array(168.48265, dtype=float32))]\n",
      "[('loss', Array(166.0021, dtype=float32))]\n",
      "[('loss', Array(163.67624, dtype=float32))]\n",
      "[('loss', Array(161.36432, dtype=float32))]\n",
      "[('loss', Array(159.41728, dtype=float32))]\n",
      "[('loss', Array(157.54965, dtype=float32))]\n",
      "[('loss', Array(155.74057, dtype=float32))]\n",
      "[('loss', Array(153.8106, dtype=float32))]\n",
      "[('loss', Array(152.3704, dtype=float32))]\n",
      "[('loss', Array(150.41487, dtype=float32))]\n",
      "[('loss', Array(149.17981, dtype=float32))]\n",
      "[('loss', Array(148.15962, dtype=float32))]\n",
      "[('loss', Array(147.3351, dtype=float32))]\n",
      "[('loss', Array(146.44402, dtype=float32))]\n",
      "[('loss', Array(145.38821, dtype=float32))]\n",
      "[('loss', Array(144.18683, dtype=float32))]\n",
      "[('loss', Array(143.4755, dtype=float32))]\n",
      "[('loss', Array(142.67578, dtype=float32))]\n",
      "[('loss', Array(142.01404, dtype=float32))]\n",
      "[('loss', Array(141.26393, dtype=float32))]\n",
      "[('loss', Array(140.6532, dtype=float32))]\n",
      "[('loss', Array(139.87296, dtype=float32))]\n",
      "[('loss', Array(139.27728, dtype=float32))]\n",
      "[('loss', Array(138.61084, dtype=float32))]\n",
      "[('loss', Array(137.88928, dtype=float32))]\n",
      "[('loss', Array(137.16106, dtype=float32))]\n",
      "[('loss', Array(136.49596, dtype=float32))]\n",
      "[('loss', Array(136.06998, dtype=float32))]\n",
      "[('loss', Array(135.60564, dtype=float32))]\n",
      "[('loss', Array(135.03491, dtype=float32))]\n",
      "[('loss', Array(134.67722, dtype=float32))]\n",
      "[('loss', Array(134.24826, dtype=float32))]\n",
      "[('loss', Array(133.68813, dtype=float32))]\n",
      "[('loss', Array(133.21866, dtype=float32))]\n",
      "[('loss', Array(132.85495, dtype=float32))]\n",
      "[('loss', Array(132.42683, dtype=float32))]\n",
      "[('loss', Array(131.84738, dtype=float32))]\n",
      "[('loss', Array(131.40724, dtype=float32))]\n",
      "[('loss', Array(131.05331, dtype=float32))]\n",
      "[('loss', Array(130.67178, dtype=float32))]\n",
      "[('loss', Array(130.21129, dtype=float32))]\n",
      "[('loss', Array(129.71231, dtype=float32))]\n",
      "[('loss', Array(129.44771, dtype=float32))]\n",
      "[('loss', Array(129.11017, dtype=float32))]\n",
      "[('loss', Array(128.63435, dtype=float32))]\n",
      "[('loss', Array(128.37637, dtype=float32))]\n",
      "[('loss', Array(128.1672, dtype=float32))]\n",
      "[('loss', Array(127.879555, dtype=float32))]\n",
      "[('loss', Array(127.549736, dtype=float32))]\n",
      "[('loss', Array(127.32657, dtype=float32))]\n",
      "[('loss', Array(127.05612, dtype=float32))]\n",
      "[('loss', Array(126.675545, dtype=float32))]\n",
      "[('loss', Array(126.54502, dtype=float32))]\n",
      "[('loss', Array(126.346085, dtype=float32))]\n",
      "[('loss', Array(126.03857, dtype=float32))]\n",
      "[('loss', Array(125.868515, dtype=float32))]\n",
      "[('loss', Array(125.52379, dtype=float32))]\n",
      "[('loss', Array(125.30505, dtype=float32))]\n",
      "[('loss', Array(125.072, dtype=float32))]\n",
      "[('loss', Array(124.84881, dtype=float32))]\n",
      "[('loss', Array(124.57199, dtype=float32))]\n",
      "[('loss', Array(124.348305, dtype=float32))]\n",
      "[('loss', Array(124.095795, dtype=float32))]\n",
      "[('loss', Array(123.80105, dtype=float32))]\n",
      "[('loss', Array(123.565315, dtype=float32))]\n",
      "[('loss', Array(123.33519, dtype=float32))]\n",
      "[('loss', Array(123.257835, dtype=float32))]\n",
      "[('loss', Array(122.99378, dtype=float32))]\n",
      "[('loss', Array(122.76084, dtype=float32))]\n",
      "[('loss', Array(122.52463, dtype=float32))]\n",
      "[('loss', Array(122.37467, dtype=float32))]\n",
      "[('loss', Array(122.13318, dtype=float32))]\n",
      "[('loss', Array(122.00547, dtype=float32))]\n",
      "[('loss', Array(121.69635, dtype=float32))]\n",
      "[('loss', Array(121.49759, dtype=float32))]\n",
      "[('loss', Array(121.39958, dtype=float32))]\n",
      "[('loss', Array(121.20164, dtype=float32))]\n",
      "[('loss', Array(121.06602, dtype=float32))]\n",
      "[('loss', Array(120.84621, dtype=float32))]\n",
      "[('loss', Array(120.745995, dtype=float32))]\n",
      "[('loss', Array(120.660835, dtype=float32))]\n",
      "[('loss', Array(120.59748, dtype=float32))]\n",
      "[('loss', Array(120.46007, dtype=float32))]\n",
      "[('loss', Array(120.28909, dtype=float32))]\n",
      "[('loss', Array(120.11083, dtype=float32))]\n",
      "[('loss', Array(119.92634, dtype=float32))]\n",
      "[('loss', Array(119.73785, dtype=float32))]\n",
      "[('loss', Array(119.61615, dtype=float32))]\n",
      "[('loss', Array(119.44131, dtype=float32))]\n",
      "[('loss', Array(119.37717, dtype=float32))]\n",
      "[('loss', Array(119.23404, dtype=float32))]\n",
      "[('loss', Array(119.07647, dtype=float32))]\n",
      "[('loss', Array(118.86707, dtype=float32))]\n",
      "[('loss', Array(118.74961, dtype=float32))]\n",
      "[('loss', Array(118.53587, dtype=float32))]\n",
      "[('loss', Array(118.41452, dtype=float32))]\n",
      "[('loss', Array(118.27899, dtype=float32))]\n",
      "[('loss', Array(118.11957, dtype=float32))]\n",
      "[('loss', Array(117.934845, dtype=float32))]\n",
      "[('loss', Array(117.7816, dtype=float32))]\n",
      "[('loss', Array(117.65865, dtype=float32))]\n",
      "[('loss', Array(117.54446, dtype=float32))]\n",
      "[('loss', Array(117.36032, dtype=float32))]\n",
      "[('loss', Array(117.21329, dtype=float32))]\n",
      "[('loss', Array(117.05643, dtype=float32))]\n",
      "[('loss', Array(116.88984, dtype=float32))]\n",
      "[('loss', Array(116.82529, dtype=float32))]\n",
      "[('loss', Array(116.70788, dtype=float32))]\n",
      "[('loss', Array(116.60303, dtype=float32))]\n",
      "[('loss', Array(116.487564, dtype=float32))]\n",
      "[('loss', Array(116.33334, dtype=float32))]\n",
      "[('loss', Array(116.21937, dtype=float32))]\n",
      "[('loss', Array(116.108604, dtype=float32))]\n",
      "[('loss', Array(115.933975, dtype=float32))]\n",
      "[('loss', Array(115.84384, dtype=float32))]\n",
      "[('loss', Array(115.745384, dtype=float32))]\n",
      "[('loss', Array(115.61257, dtype=float32))]\n",
      "[('loss', Array(115.550545, dtype=float32))]\n",
      "[('loss', Array(115.46343, dtype=float32))]\n",
      "[('loss', Array(115.34061, dtype=float32))]\n",
      "[('loss', Array(115.2434, dtype=float32))]\n",
      "[('loss', Array(115.07854, dtype=float32))]\n",
      "[('loss', Array(114.9624, dtype=float32))]\n",
      "[('loss', Array(114.86719, dtype=float32))]\n",
      "[('loss', Array(114.747055, dtype=float32))]\n",
      "[('loss', Array(114.63768, dtype=float32))]\n",
      "[('loss', Array(114.50796, dtype=float32))]\n",
      "[('loss', Array(114.44066, dtype=float32))]\n",
      "[('loss', Array(114.38972, dtype=float32))]\n",
      "[('loss', Array(114.301834, dtype=float32))]\n",
      "[('loss', Array(114.20706, dtype=float32))]\n",
      "[('loss', Array(114.12582, dtype=float32))]\n",
      "[('loss', Array(114.0616, dtype=float32))]\n",
      "[('loss', Array(113.936874, dtype=float32))]\n",
      "[('loss', Array(113.88949, dtype=float32))]\n",
      "[('loss', Array(113.79176, dtype=float32))]\n",
      "[('loss', Array(113.694496, dtype=float32))]\n",
      "[('loss', Array(113.57079, dtype=float32))]\n",
      "[('loss', Array(113.44575, dtype=float32))]\n",
      "[('loss', Array(113.38444, dtype=float32))]\n",
      "[('loss', Array(113.33065, dtype=float32))]\n",
      "[('loss', Array(113.21587, dtype=float32))]\n",
      "[('loss', Array(113.15676, dtype=float32))]\n",
      "[('loss', Array(113.04891, dtype=float32))]\n",
      "[('loss', Array(112.93787, dtype=float32))]\n",
      "[('loss', Array(112.87907, dtype=float32))]\n",
      "[('loss', Array(112.79688, dtype=float32))]\n",
      "[('loss', Array(112.74119, dtype=float32))]\n",
      "[('loss', Array(112.66759, dtype=float32))]\n",
      "[('loss', Array(112.56037, dtype=float32))]\n",
      "[('loss', Array(112.47508, dtype=float32))]\n",
      "[('loss', Array(112.40503, dtype=float32))]\n",
      "[('loss', Array(112.310875, dtype=float32))]\n",
      "[('loss', Array(112.23737, dtype=float32))]\n",
      "[('loss', Array(112.14432, dtype=float32))]\n",
      "[('loss', Array(112.02913, dtype=float32))]\n",
      "[('loss', Array(111.966774, dtype=float32))]\n",
      "[('loss', Array(111.883675, dtype=float32))]\n",
      "[('loss', Array(111.83159, dtype=float32))]\n",
      "[('loss', Array(111.73547, dtype=float32))]\n",
      "[('loss', Array(111.69168, dtype=float32))]\n",
      "[('loss', Array(111.60432, dtype=float32))]\n",
      "[('loss', Array(111.51566, dtype=float32))]\n",
      "[('loss', Array(111.47269, dtype=float32))]\n",
      "[('loss', Array(111.40068, dtype=float32))]\n",
      "[('loss', Array(111.34179, dtype=float32))]\n",
      "[('loss', Array(111.242355, dtype=float32))]\n",
      "[('loss', Array(111.17821, dtype=float32))]\n",
      "[('loss', Array(111.10693, dtype=float32))]\n",
      "[('loss', Array(111.00382, dtype=float32))]\n",
      "[('loss', Array(110.94129, dtype=float32))]\n",
      "[('loss', Array(110.87224, dtype=float32))]\n",
      "[('loss', Array(110.81437, dtype=float32))]\n",
      "[('loss', Array(110.77535, dtype=float32))]\n",
      "[('loss', Array(110.73788, dtype=float32))]\n",
      "[('loss', Array(110.642006, dtype=float32))]\n",
      "[('loss', Array(110.628975, dtype=float32))]\n",
      "[('loss', Array(110.51124, dtype=float32))]\n",
      "[('loss', Array(110.42509, dtype=float32))]\n",
      "[('loss', Array(110.37151, dtype=float32))]\n",
      "[('loss', Array(110.315636, dtype=float32))]\n",
      "[('loss', Array(110.29484, dtype=float32))]\n",
      "[('loss', Array(110.273674, dtype=float32))]\n",
      "[('loss', Array(110.20387, dtype=float32))]\n",
      "[('loss', Array(110.11805, dtype=float32))]\n",
      "[('loss', Array(110.01934, dtype=float32))]\n",
      "[('loss', Array(109.954895, dtype=float32))]\n",
      "[('loss', Array(109.886185, dtype=float32))]\n",
      "[('loss', Array(109.812744, dtype=float32))]\n",
      "[('loss', Array(109.725365, dtype=float32))]\n",
      "[('loss', Array(109.65546, dtype=float32))]\n",
      "[('loss', Array(109.591354, dtype=float32))]\n",
      "[('loss', Array(109.555145, dtype=float32))]\n",
      "[('loss', Array(109.476265, dtype=float32))]\n",
      "[('loss', Array(109.431885, dtype=float32))]\n",
      "[('loss', Array(109.378456, dtype=float32))]\n",
      "[('loss', Array(109.35432, dtype=float32))]\n",
      "[('loss', Array(109.28587, dtype=float32))]\n",
      "[('loss', Array(109.25761, dtype=float32))]\n",
      "[('loss', Array(109.16933, dtype=float32))]\n",
      "[('loss', Array(109.124504, dtype=float32))]\n",
      "[('loss', Array(109.0648, dtype=float32))]\n",
      "[('loss', Array(109.03049, dtype=float32))]\n",
      "[('loss', Array(109.00542, dtype=float32))]\n",
      "[('loss', Array(108.92825, dtype=float32))]\n",
      "[('loss', Array(108.90015, dtype=float32))]\n"
     ]
    }
   ],
   "source": [
    "for _ in range(10):\n",
    "    for step, batch in enumerate(iter_data.shuffle()['x']):\n",
    "        data = jnp.array(jnp.array(batch)!=0, dtype=jnp.float32).reshape(-1, 28*28)\n",
    "        train_step(model, optimizer, metrics, data)\n",
    "        if step%100 == 0:\n",
    "            print([(m, v) for m,v in metrics.compute().items()])"
   ]
  },
  {
   "cell_type": "code",
   "execution_count": null,
   "id": "df932273-e163-495a-909a-6ea9a4534550",
   "metadata": {},
   "outputs": [],
   "source": []
  }
 ],
 "metadata": {
  "kernelspec": {
   "display_name": "Python 3 (ipykernel)",
   "language": "python",
   "name": "python3"
  },
  "language_info": {
   "codemirror_mode": {
    "name": "ipython",
    "version": 3
   },
   "file_extension": ".py",
   "mimetype": "text/x-python",
   "name": "python",
   "nbconvert_exporter": "python",
   "pygments_lexer": "ipython3",
   "version": "3.12.3"
  }
 },
 "nbformat": 4,
 "nbformat_minor": 5
}
