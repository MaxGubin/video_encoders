{
 "cells": [
  {
   "cell_type": "code",
   "execution_count": 4,
   "id": "03abe00f-74eb-4281-bb3f-05293f62d104",
   "metadata": {},
   "outputs": [],
   "source": [
    "# imports\n",
    "import jax\n",
    "from flax import nnx\n",
    "import optax\n",
    "import jax.numpy as jnp\n",
    "import dataclasses\n",
    "\n",
    "from typing import List"
   ]
  },
  {
   "cell_type": "code",
   "execution_count": 5,
   "id": "77f38ae2-8220-4bd1-9a5c-f883386b2659",
   "metadata": {},
   "outputs": [
    {
     "data": {
      "text/plain": [
       "[CudaDevice(id=0)]"
      ]
     },
     "execution_count": 5,
     "metadata": {},
     "output_type": "execute_result"
    }
   ],
   "source": [
    "jax.devices()"
   ]
  },
  {
   "cell_type": "markdown",
   "id": "98a8435f-4891-4df2-876b-596d28bb8bfd",
   "metadata": {},
   "source": [
    "# Configuration\n",
    "This model has more parameters, let's create a special class with configuration parameters"
   ]
  },
  {
   "cell_type": "markdown",
   "id": "45ce72fd-e413-41e1-aabb-02a7ddca136f",
   "metadata": {},
   "source": [
    "# Configuration\n",
    "This model has more parameters, let's create a special class with configuration parameters"
   ]
  },
  {
   "cell_type": "code",
   "execution_count": 10,
   "id": "3ef65a40-274c-4849-98ec-09c097237b48",
   "metadata": {},
   "outputs": [],
   "source": [
    "@dataclasses.dataclass\n",
    "class Config:\n",
    "    embeded_size:int = 64\n",
    "\n",
    "    # Image-related parameters\n",
    "    in_channels:int = 3\n",
    "    image_width:int = 256\n",
    "    image_height:int = 256\n",
    "\n",
    "    # Architecture related parameters\n",
    "    num_residual_hiddens:int = 128\n",
    "    num_residual_input:int = 3\n",
    "    # Dataset-related parameters\n",
    "    dataset_name:str = 'bitmind/ffhq-256'\n",
    "    "
   ]
  },
  {
   "cell_type": "code",
   "execution_count": 25,
   "id": "231dc1b4-3b05-4801-81bd-fce12b08eddb",
   "metadata": {},
   "outputs": [],
   "source": [
    "class ResBlock(nnx.Module):\n",
    "    \"\"\"One block of the encoder with a residual connection\"\"\"\n",
    "    def __init__(self, config:Config, rngs: nnx.Rngs):\n",
    "        super().__init__()\n",
    "        self.config= config\n",
    "        self.conv1 = nnx.Conv(in_features=config.num_residual_input, out_features=config.num_residual_hiddens, kernel_size=(3,3), strides=1, padding='SAME', rngs=rngs)\n",
    "        self.conv2 = nnx.Conv(in_features=config.num_residual_hiddens, out_features=config.num_residual_input, kernel_size=(1,1), strides=1, padding='SAME', rngs=rngs)\n",
    "    def __call__(self, inputs:jax.Array):\n",
    "        out = self.conv1(inputs)\n",
    "        out = jax.nn.relu(out)\n",
    "        out = self.conv2(out)\n",
    "        out = jax.nn.relu(out)\n",
    "        return out+inputs\n",
    "    "
   ]
  },
  {
   "cell_type": "code",
   "execution_count": 26,
   "id": "7979431e-cb26-4427-8f15-7cc2cd203f5a",
   "metadata": {},
   "outputs": [],
   "source": [
    "rngs = nnx.Rngs(0)\n",
    "config = Config()\n",
    "res_block = ResBlock(config, rngs)"
   ]
  },
  {
   "cell_type": "code",
   "execution_count": 29,
   "id": "1f135a94-df29-4fe8-93ff-b9b7e08379ae",
   "metadata": {},
   "outputs": [
    {
     "data": {
      "text/plain": [
       "((256, 256, 3), (256, 256, 3))"
      ]
     },
     "execution_count": 29,
     "metadata": {},
     "output_type": "execute_result"
    }
   ],
   "source": [
    "test_image=jnp.ones((config.image_height, config.image_width, 3))\n",
    "test_image.shape, res_block(test_image).shape            "
   ]
  },
  {
   "cell_type": "code",
   "execution_count": null,
   "id": "841f1bc9-a2f0-4c7e-a69d-a48574fe7819",
   "metadata": {},
   "outputs": [],
   "source": [
    "class Encoder(nnx.Module):\n",
    "    \"\"\"VQVAE encoder\"\"\"\n",
    "    def __init__(self,config):\n",
    "        super().__init__()\n",
    "        self.config = config\n",
    "        \n",
    "    "
   ]
  }
 ],
 "metadata": {
  "kernelspec": {
   "display_name": "Python 3 (ipykernel)",
   "language": "python",
   "name": "python3"
  },
  "language_info": {
   "codemirror_mode": {
    "name": "ipython",
    "version": 3
   },
   "file_extension": ".py",
   "mimetype": "text/x-python",
   "name": "python",
   "nbconvert_exporter": "python",
   "pygments_lexer": "ipython3",
   "version": "3.12.3"
  }
 },
 "nbformat": 4,
 "nbformat_minor": 5
}
