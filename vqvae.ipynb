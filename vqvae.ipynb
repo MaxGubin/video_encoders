{
 "cells": [
  {
   "cell_type": "code",
   "execution_count": 1,
   "id": "500ad03c-21a0-4dc4-aaed-692d7c42d4d6",
   "metadata": {},
   "outputs": [],
   "source": [
    "import jax"
   ]
  },
  {
   "cell_type": "code",
   "execution_count": 2,
   "id": "08811524-e39e-428a-8404-050cb951e292",
   "metadata": {},
   "outputs": [
    {
     "data": {
      "text/plain": [
       "[CudaDevice(id=0)]"
      ]
     },
     "execution_count": 2,
     "metadata": {},
     "output_type": "execute_result"
    }
   ],
   "source": [
    "jax.devices()"
   ]
  },
  {
   "cell_type": "code",
   "execution_count": 3,
   "id": "b9d0c4f5-5601-4d35-8973-fb0c9985a22a",
   "metadata": {},
   "outputs": [],
   "source": [
    "from flax import nnx\n",
    "import optax\n",
    "import jax.numpy as jnp\n"
   ]
  },
  {
   "cell_type": "code",
   "execution_count": 4,
   "id": "3b88b234-4124-448d-a394-0798ecb55ef5",
   "metadata": {},
   "outputs": [],
   "source": [
    "class Encoder(nnx.Module):\n",
    "    \"\"\"VAE Encoder\"\"\"\n",
    "    def __init__(self, latent_dim: int, image_flatten_dim: int, internal_dim:int, rngs: nnx.Rngs):\n",
    "        self.dense_layer = nnx.Linear(in_features=image_flatten_dim, out_features=internal_dim, rngs=rngs)\n",
    "        self.mean_layer = nnx.Linear(in_features=internal_dim, out_features=latent_dim, rngs=rngs)\n",
    "        self.logvar_layer = nnx.Linear(in_features=internal_dim, out_features=latent_dim, rngs=rngs)\n",
    "    def __call__(self, x: jax.Array):\n",
    "        x = self.dense_layer(x)\n",
    "        x = jax.nn.relu(x)\n",
    "        means = self.mean_layer(x)\n",
    "        logvars = self.logvar_layer(x)\n",
    "        return (means, logvars)\n",
    "        "
   ]
  },
  {
   "cell_type": "code",
   "execution_count": 5,
   "id": "dfd90361-01ab-4ad5-ac47-cd048af70466",
   "metadata": {},
   "outputs": [],
   "source": [
    "class Decoder(nnx.Module):\n",
    "    \"\"\"VAE Decoder\"\"\"\n",
    "    def __init__(self, latent_dim: int, image_flatten_dim: int, internal_dim:int, rngs: nnx.Rngs):\n",
    "        self.dense_layer1 = nnx.Linear(in_features=latent_dim, out_features=internal_dim, rngs=rngs)\n",
    "        self.dense_layer2 = nnx.Linear(in_features=internal_dim, out_features=image_flatten_dim, rngs=rngs)\n",
    "    def __call__(self, x: jax.Array):\n",
    "        x = self.dense_layer1(x)\n",
    "        x = jax.nn.relu(x)\n",
    "        x = self.dense_layer2(x)\n",
    "        return x"
   ]
  },
  {
   "cell_type": "code",
   "execution_count": 6,
   "id": "70368b6e-373e-451a-b36a-d83c2d8229fd",
   "metadata": {},
   "outputs": [],
   "source": [
    "class VAE(nnx.Module):\n",
    "    \"\"\"VAE together\"\"\"\n",
    "    def __init__(self, latent_dim:int, image_flatten_dim:int, internal_dim:int, rngs: nnx.Rngs):\n",
    "        self.encoder = Encoder(latent_dim=latent_dim, image_flatten_dim=image_flatten_dim, internal_dim=internal_dim, rngs=rngs)\n",
    "        self.decoder = Decoder(latent_dim=latent_dim, image_flatten_dim=image_flatten_dim, internal_dim=internal_dim, rngs=rngs)\n",
    "        self.random_for_reparam = rngs.reparam()\n",
    "    def __call__(self, x: jax.Array):\n",
    "        mean, logvar = self.encoder(x)\n",
    "        x = self.reparam(mean, logvar)\n",
    "        x = self.decoder(x)\n",
    "        return x, mean, logvar\n",
    "\n",
    "    def reparam(self, mean: jax.Array, logvars: jax.Array):\n",
    "        std = jnp.exp(logvars/2.0)\n",
    "        eps = jax.random.normal(self.random_for_reparam, logvars.shape)\n",
    "        return mean + eps*std\n",
    "        "
   ]
  },
  {
   "cell_type": "code",
   "execution_count": 7,
   "id": "8556c7f4-15b2-4908-a847-5b815c8d4d93",
   "metadata": {},
   "outputs": [
    {
     "name": "stderr",
     "output_type": "stream",
     "text": [
      "2024-10-07 14:41:20.767516: W external/xla/xla/service/gpu/nvptx_compiler.cc:893] The NVIDIA driver's CUDA version is 12.4 which is older than the PTX compiler version 12.6.77. Because the driver is older than the PTX compiler version, XLA is disabling parallel compilation, which may slow down compilation. You should update your NVIDIA driver or use the NVIDIA-provided CUDA forward compatibility packages.\n"
     ]
    },
    {
     "data": {
      "text/plain": [
       "(Array([-0.45001116,  0.34558707,  0.28287855, ..., -1.2844074 ,\n",
       "         0.22410434, -0.27409077], dtype=float32),\n",
       " Array([ 0.5681723 , -0.06791615, -0.24735603, -0.39458978, -0.9860513 ,\n",
       "         0.74274313, -0.13057835, -0.5456586 , -1.2630452 ,  0.4183552 ,\n",
       "        -0.09809393, -1.2089942 , -1.4128064 , -0.9893104 ,  0.6430859 ,\n",
       "        -0.7321053 ], dtype=float32),\n",
       " Array([ 0.6757376 , -1.2812955 ,  0.6903671 , -0.23399292,  0.22029123,\n",
       "        -1.1534731 , -0.55614877, -1.0910658 , -0.0902662 ,  0.5463139 ,\n",
       "        -0.0121367 , -1.4974947 ,  0.03824741, -0.61413294, -1.1627892 ,\n",
       "        -0.24757725], dtype=float32))"
      ]
     },
     "execution_count": 7,
     "metadata": {},
     "output_type": "execute_result"
    }
   ],
   "source": [
    "vae = VAE(16, 32*32, 512, nnx.Rngs(0))\n",
    "y = vae(jnp.ones((32*32)))\n",
    "y"
   ]
  },
  {
   "cell_type": "code",
   "execution_count": 14,
   "id": "1155ccb4-ac94-4a46-9e7a-4e0bc3ef8168",
   "metadata": {},
   "outputs": [],
   "source": [
    "import datasets\n",
    "from PIL import Image\n",
    "from IPython.display import display"
   ]
  },
  {
   "cell_type": "code",
   "execution_count": 10,
   "id": "af619334-4a75-4446-b24e-9107215057fb",
   "metadata": {},
   "outputs": [
    {
     "data": {
      "application/vnd.jupyter.widget-view+json": {
       "model_id": "aca28d52434d40d0aa3d7dd0974e44a3",
       "version_major": 2,
       "version_minor": 0
      },
      "text/plain": [
       "README.md:   0%|          | 0.00/6.97k [00:00<?, ?B/s]"
      ]
     },
     "metadata": {},
     "output_type": "display_data"
    },
    {
     "data": {
      "application/vnd.jupyter.widget-view+json": {
       "model_id": "01c9df1ce3044dc7bb36d5241b8fcaa6",
       "version_major": 2,
       "version_minor": 0
      },
      "text/plain": [
       "train-00000-of-00001.parquet:   0%|          | 0.00/15.6M [00:00<?, ?B/s]"
      ]
     },
     "metadata": {},
     "output_type": "display_data"
    },
    {
     "data": {
      "application/vnd.jupyter.widget-view+json": {
       "model_id": "51985c4e551445fcaefaf79a0467ff27",
       "version_major": 2,
       "version_minor": 0
      },
      "text/plain": [
       "test-00000-of-00001.parquet:   0%|          | 0.00/2.60M [00:00<?, ?B/s]"
      ]
     },
     "metadata": {},
     "output_type": "display_data"
    },
    {
     "data": {
      "application/vnd.jupyter.widget-view+json": {
       "model_id": "969a8e9c575c4a6599bac1083fc8a83e",
       "version_major": 2,
       "version_minor": 0
      },
      "text/plain": [
       "Generating train split:   0%|          | 0/60000 [00:00<?, ? examples/s]"
      ]
     },
     "metadata": {},
     "output_type": "display_data"
    },
    {
     "data": {
      "application/vnd.jupyter.widget-view+json": {
       "model_id": "a6f428ecd4ae4927bf3f692562c0e3bb",
       "version_major": 2,
       "version_minor": 0
      },
      "text/plain": [
       "Generating test split:   0%|          | 0/10000 [00:00<?, ? examples/s]"
      ]
     },
     "metadata": {},
     "output_type": "display_data"
    }
   ],
   "source": [
    "dataset = datasets.load_dataset(\"ylecun/mnist\")"
   ]
  },
  {
   "cell_type": "code",
   "execution_count": 68,
   "id": "9ff0cc25-4475-4edd-9fb8-be2550371415",
   "metadata": {},
   "outputs": [],
   "source": [
    "fl = dataset[\"train\"][\"image\"][0]"
   ]
  },
  {
   "cell_type": "code",
   "execution_count": 74,
   "id": "2e8bdead-7dc4-4e26-ab09-50089f41a0fd",
   "metadata": {},
   "outputs": [
    {
     "data": {
      "text/plain": [
       "Array([[1, 2],\n",
       "       [3, 4]], dtype=int32)"
      ]
     },
     "execution_count": 74,
     "metadata": {},
     "output_type": "execute_result"
    }
   ],
   "source": [
    "jnp.array([jnp.array([1,2]), jnp.array([3,4])])"
   ]
  },
  {
   "cell_type": "code",
   "execution_count": 79,
   "id": "914aa9b2-3807-4062-9df9-37744a19576e",
   "metadata": {},
   "outputs": [
    {
     "data": {
      "application/vnd.jupyter.widget-view+json": {
       "model_id": "0f42cf8b6e7048f9a87ff6e7405b2482",
       "version_major": 2,
       "version_minor": 0
      },
      "text/plain": [
       "Map:   0%|          | 0/60000 [00:00<?, ? examples/s]"
      ]
     },
     "metadata": {},
     "output_type": "display_data"
    }
   ],
   "source": [
    "iter_data = dataset[\"train\"].map(lambda x: {\"x\": jnp.array([jnp.array(i) for i in x[\"image\"]])}, remove_columns=dataset[\"train\"].column_names, batched=True, batch_size=32)"
   ]
  },
  {
   "cell_type": "markdown",
   "id": "7af2b38a-fbf6-478a-a49b-f364cc6b348a",
   "metadata": {},
   "source": [
    "# Training"
   ]
  },
  {
   "cell_type": "code",
   "execution_count": 18,
   "id": "5a433da9-fc8f-4880-bebe-84e0b63a2216",
   "metadata": {},
   "outputs": [],
   "source": [
    "def kl_divergence(mean, logvar):\n",
    "  return -0.5 * jnp.sum(1 + logvar - jnp.square(mean) - jnp.exp(logvar))"
   ]
  },
  {
   "cell_type": "code",
   "execution_count": 42,
   "id": "551b7e7e-182c-4f83-b5a9-e76c9c0ecc4f",
   "metadata": {},
   "outputs": [],
   "source": [
    "def reconstruct_loss(logits, labels):\n",
    "    logits = jax.nn.log_sigmoid(logits)\n",
    "    return -jnp.sum(\n",
    "        labels * logits + (1.0 - labels) * jnp.log(-jnp.expm1(logits))\n",
    "    )"
   ]
  },
  {
   "cell_type": "code",
   "execution_count": 91,
   "id": "2702d12a-7ce9-4c7b-9682-5aed560c75ad",
   "metadata": {},
   "outputs": [],
   "source": [
    "model = VAE(10, 28*28, 256, nnx.Rngs(0))\n",
    "tx = optax.adam(0.001)\n",
    "state = nnx.Optimizer(model, tx)"
   ]
  },
  {
   "cell_type": "code",
   "execution_count": 104,
   "id": "cdd4579b-8881-41be-9784-984dd431a612",
   "metadata": {},
   "outputs": [],
   "source": [
    "def build_loss_fn(model):\n",
    "    def loss_fn(data):\n",
    "        logits, mean, logvar = model(data)\n",
    "        divergence = kl_divergence(mean, logvar)\n",
    "        reconstruct = reconstruct_loss(logits, data)\n",
    "        print('d', divergence, 'r', reconstruct)\n",
    "        return divergence + reconstruct\n",
    "    return loss_fn"
   ]
  },
  {
   "cell_type": "code",
   "execution_count": 109,
   "id": "2fe0e7ab-c2f4-49fd-9e3d-ba7cb779575f",
   "metadata": {},
   "outputs": [
    {
     "name": "stdout",
     "output_type": "stream",
     "text": [
      "d 0.89737016 r 573.34796\n"
     ]
    },
    {
     "data": {
      "text/plain": [
       "Array(574.24536, dtype=float32)"
      ]
     },
     "execution_count": 109,
     "metadata": {},
     "output_type": "execute_result"
    }
   ],
   "source": [
    "loss_fn = build_loss_fn(model)\n",
    "loss_fn(jnp.array(jnp.array(iter_data['x'][0])!=0, dtype=jnp.float32).reshape(-1, 28*28))"
   ]
  },
  {
   "cell_type": "code",
   "execution_count": null,
   "id": "35ec5f56-81ba-4a2d-82eb-3d48e8023a67",
   "metadata": {},
   "outputs": [],
   "source": [
    "grad = nnx.grad(loss_fn)(jnp.array(jnp.array(iter_data['x'][0])!=0, dtype=jnp.float32).reshape(-1, 28*28))\n",
    "grad"
   ]
  },
  {
   "cell_type": "code",
   "execution_count": 111,
   "id": "76142375-e966-4238-9464-4cc0934e2266",
   "metadata": {},
   "outputs": [
    {
     "ename": "TypeError",
     "evalue": "unsupported operand type(s) for *: 'float' and 'State'",
     "output_type": "error",
     "traceback": [
      "\u001b[0;31m---------------------------------------------------------------------------\u001b[0m",
      "\u001b[0;31mTypeError\u001b[0m                                 Traceback (most recent call last)",
      "Cell \u001b[0;32mIn[111], line 1\u001b[0m\n\u001b[0;32m----> 1\u001b[0m \u001b[43mstate\u001b[49m\u001b[38;5;241;43m.\u001b[39;49m\u001b[43mupdate\u001b[49m\u001b[43m(\u001b[49m\u001b[43mgrad\u001b[49m\u001b[43m)\u001b[49m\n",
      "File \u001b[0;32m~/work/vqvae/.venv/lib/python3.12/site-packages/flax/nnx/nnx/training/optimizer.py:201\u001b[0m, in \u001b[0;36mOptimizer.update\u001b[0;34m(self, grads)\u001b[0m\n\u001b[1;32m    143\u001b[0m \u001b[38;5;250m\u001b[39m\u001b[38;5;124;03m\"\"\"Updates ``step``, ``params``, ``opt_state`` and ``**kwargs`` in return value.\u001b[39;00m\n\u001b[1;32m    144\u001b[0m \u001b[38;5;124;03mThe ``grads`` must be derived from ``nnx.grad(..., wrt=self.wrt)``, where the\u001b[39;00m\n\u001b[1;32m    145\u001b[0m \u001b[38;5;124;03mgradients are with respect to the same :class:`Variable` types as defined in\u001b[39;00m\n\u001b[0;32m   (...)\u001b[0m\n\u001b[1;32m    197\u001b[0m \u001b[38;5;124;03m  grads: the gradients derived from ``nnx.grad``.\u001b[39;00m\n\u001b[1;32m    198\u001b[0m \u001b[38;5;124;03m\"\"\"\u001b[39;00m\n\u001b[1;32m    199\u001b[0m state \u001b[38;5;241m=\u001b[39m nnx\u001b[38;5;241m.\u001b[39mstate(\u001b[38;5;28mself\u001b[39m\u001b[38;5;241m.\u001b[39mmodel, \u001b[38;5;28mself\u001b[39m\u001b[38;5;241m.\u001b[39mwrt)\n\u001b[0;32m--> 201\u001b[0m updates, new_opt_state \u001b[38;5;241m=\u001b[39m \u001b[38;5;28;43mself\u001b[39;49m\u001b[38;5;241;43m.\u001b[39;49m\u001b[43mtx\u001b[49m\u001b[38;5;241;43m.\u001b[39;49m\u001b[43mupdate\u001b[49m\u001b[43m(\u001b[49m\u001b[43mgrads\u001b[49m\u001b[43m,\u001b[49m\u001b[43m \u001b[49m\u001b[38;5;28;43mself\u001b[39;49m\u001b[38;5;241;43m.\u001b[39;49m\u001b[43mopt_state\u001b[49m\u001b[43m,\u001b[49m\u001b[43m \u001b[49m\u001b[43mstate\u001b[49m\u001b[43m)\u001b[49m\n\u001b[1;32m    202\u001b[0m new_params \u001b[38;5;241m=\u001b[39m optax\u001b[38;5;241m.\u001b[39mapply_updates(state, updates)\n\u001b[1;32m    203\u001b[0m \u001b[38;5;28;01massert\u001b[39;00m \u001b[38;5;28misinstance\u001b[39m(new_params, nnx\u001b[38;5;241m.\u001b[39mState)\n",
      "File \u001b[0;32m~/work/vqvae/.venv/lib/python3.12/site-packages/optax/transforms/_combining.py:73\u001b[0m, in \u001b[0;36mchain.<locals>.update_fn\u001b[0;34m(updates, state, params, **extra_args)\u001b[0m\n\u001b[1;32m     71\u001b[0m new_state \u001b[38;5;241m=\u001b[39m []\n\u001b[1;32m     72\u001b[0m \u001b[38;5;28;01mfor\u001b[39;00m s, fn \u001b[38;5;129;01min\u001b[39;00m \u001b[38;5;28mzip\u001b[39m(state, update_fns):\n\u001b[0;32m---> 73\u001b[0m   updates, new_s \u001b[38;5;241m=\u001b[39m \u001b[43mfn\u001b[49m\u001b[43m(\u001b[49m\u001b[43mupdates\u001b[49m\u001b[43m,\u001b[49m\u001b[43m \u001b[49m\u001b[43ms\u001b[49m\u001b[43m,\u001b[49m\u001b[43m \u001b[49m\u001b[43mparams\u001b[49m\u001b[43m,\u001b[49m\u001b[43m \u001b[49m\u001b[38;5;241;43m*\u001b[39;49m\u001b[38;5;241;43m*\u001b[39;49m\u001b[43mextra_args\u001b[49m\u001b[43m)\u001b[49m\n\u001b[1;32m     74\u001b[0m   new_state\u001b[38;5;241m.\u001b[39mappend(new_s)\n\u001b[1;32m     75\u001b[0m \u001b[38;5;28;01mreturn\u001b[39;00m updates, \u001b[38;5;28mtuple\u001b[39m(new_state)\n",
      "File \u001b[0;32m~/work/vqvae/.venv/lib/python3.12/site-packages/optax/_src/base.py:330\u001b[0m, in \u001b[0;36mwith_extra_args_support.<locals>.update\u001b[0;34m(***failed resolving arguments***)\u001b[0m\n\u001b[1;32m    328\u001b[0m \u001b[38;5;28;01mdef\u001b[39;00m \u001b[38;5;21mupdate\u001b[39m(updates, state, params\u001b[38;5;241m=\u001b[39m\u001b[38;5;28;01mNone\u001b[39;00m, \u001b[38;5;241m*\u001b[39m\u001b[38;5;241m*\u001b[39mextra_args):\n\u001b[1;32m    329\u001b[0m   \u001b[38;5;28;01mdel\u001b[39;00m extra_args\n\u001b[0;32m--> 330\u001b[0m   \u001b[38;5;28;01mreturn\u001b[39;00m \u001b[43mtx\u001b[49m\u001b[38;5;241;43m.\u001b[39;49m\u001b[43mupdate\u001b[49m\u001b[43m(\u001b[49m\u001b[43mupdates\u001b[49m\u001b[43m,\u001b[49m\u001b[43m \u001b[49m\u001b[43mstate\u001b[49m\u001b[43m,\u001b[49m\u001b[43m \u001b[49m\u001b[43mparams\u001b[49m\u001b[43m)\u001b[49m\n",
      "File \u001b[0;32m~/work/vqvae/.venv/lib/python3.12/site-packages/optax/_src/transform.py:220\u001b[0m, in \u001b[0;36mscale_by_adam.<locals>.update_fn\u001b[0;34m(***failed resolving arguments***)\u001b[0m\n\u001b[1;32m    218\u001b[0m \u001b[38;5;28;01mdef\u001b[39;00m \u001b[38;5;21mupdate_fn\u001b[39m(updates, state, params\u001b[38;5;241m=\u001b[39m\u001b[38;5;28;01mNone\u001b[39;00m):\n\u001b[1;32m    219\u001b[0m   \u001b[38;5;28;01mdel\u001b[39;00m params\n\u001b[0;32m--> 220\u001b[0m   mu \u001b[38;5;241m=\u001b[39m \u001b[43motu\u001b[49m\u001b[38;5;241;43m.\u001b[39;49m\u001b[43mtree_update_moment\u001b[49m\u001b[43m(\u001b[49m\u001b[43mupdates\u001b[49m\u001b[43m,\u001b[49m\u001b[43m \u001b[49m\u001b[43mstate\u001b[49m\u001b[38;5;241;43m.\u001b[39;49m\u001b[43mmu\u001b[49m\u001b[43m,\u001b[49m\u001b[43m \u001b[49m\u001b[43mb1\u001b[49m\u001b[43m,\u001b[49m\u001b[43m \u001b[49m\u001b[38;5;241;43m1\u001b[39;49m\u001b[43m)\u001b[49m\n\u001b[1;32m    221\u001b[0m   nu \u001b[38;5;241m=\u001b[39m otu\u001b[38;5;241m.\u001b[39mtree_update_moment_per_elem_norm(updates, state\u001b[38;5;241m.\u001b[39mnu, b2, \u001b[38;5;241m2\u001b[39m)\n\u001b[1;32m    222\u001b[0m   count_inc \u001b[38;5;241m=\u001b[39m numerics\u001b[38;5;241m.\u001b[39msafe_int32_increment(state\u001b[38;5;241m.\u001b[39mcount)\n",
      "File \u001b[0;32m~/work/vqvae/.venv/lib/python3.12/site-packages/optax/tree_utils/_tree_math.py:279\u001b[0m, in \u001b[0;36mtree_update_moment\u001b[0;34m(updates, moments, decay, order)\u001b[0m\n\u001b[1;32m    277\u001b[0m \u001b[38;5;28;01mdef\u001b[39;00m \u001b[38;5;21mtree_update_moment\u001b[39m(updates, moments, decay, order):\n\u001b[1;32m    278\u001b[0m \u001b[38;5;250m  \u001b[39m\u001b[38;5;124;03m\"\"\"Compute the exponential moving average of the `order`-th moment.\"\"\"\u001b[39;00m\n\u001b[0;32m--> 279\u001b[0m   \u001b[38;5;28;01mreturn\u001b[39;00m \u001b[43mjtu\u001b[49m\u001b[38;5;241;43m.\u001b[39;49m\u001b[43mtree_map\u001b[49m\u001b[43m(\u001b[49m\n\u001b[1;32m    280\u001b[0m \u001b[43m      \u001b[49m\u001b[38;5;28;43;01mlambda\u001b[39;49;00m\u001b[43m \u001b[49m\u001b[43mg\u001b[49m\u001b[43m,\u001b[49m\u001b[43m \u001b[49m\u001b[43mt\u001b[49m\u001b[43m:\u001b[49m\u001b[43m \u001b[49m\u001b[43m(\u001b[49m\n\u001b[1;32m    281\u001b[0m \u001b[43m          \u001b[49m\u001b[43m(\u001b[49m\u001b[38;5;241;43m1\u001b[39;49m\u001b[43m \u001b[49m\u001b[38;5;241;43m-\u001b[39;49m\u001b[43m \u001b[49m\u001b[43mdecay\u001b[49m\u001b[43m)\u001b[49m\u001b[43m \u001b[49m\u001b[38;5;241;43m*\u001b[39;49m\u001b[43m \u001b[49m\u001b[43m(\u001b[49m\u001b[43mg\u001b[49m\u001b[38;5;241;43m*\u001b[39;49m\u001b[38;5;241;43m*\u001b[39;49m\u001b[43morder\u001b[49m\u001b[43m)\u001b[49m\u001b[43m \u001b[49m\u001b[38;5;241;43m+\u001b[39;49m\u001b[43m \u001b[49m\u001b[43mdecay\u001b[49m\u001b[43m \u001b[49m\u001b[38;5;241;43m*\u001b[39;49m\u001b[43m \u001b[49m\u001b[43mt\u001b[49m\u001b[43m \u001b[49m\u001b[38;5;28;43;01mif\u001b[39;49;00m\u001b[43m \u001b[49m\u001b[43mg\u001b[49m\u001b[43m \u001b[49m\u001b[38;5;129;43;01mis\u001b[39;49;00m\u001b[43m \u001b[49m\u001b[38;5;129;43;01mnot\u001b[39;49;00m\u001b[43m \u001b[49m\u001b[38;5;28;43;01mNone\u001b[39;49;00m\u001b[43m \u001b[49m\u001b[38;5;28;43;01melse\u001b[39;49;00m\u001b[43m \u001b[49m\u001b[38;5;28;43;01mNone\u001b[39;49;00m\n\u001b[1;32m    282\u001b[0m \u001b[43m      \u001b[49m\u001b[43m)\u001b[49m\u001b[43m,\u001b[49m\n\u001b[1;32m    283\u001b[0m \u001b[43m      \u001b[49m\u001b[43mupdates\u001b[49m\u001b[43m,\u001b[49m\n\u001b[1;32m    284\u001b[0m \u001b[43m      \u001b[49m\u001b[43mmoments\u001b[49m\u001b[43m,\u001b[49m\n\u001b[1;32m    285\u001b[0m \u001b[43m      \u001b[49m\u001b[43mis_leaf\u001b[49m\u001b[38;5;241;43m=\u001b[39;49m\u001b[38;5;28;43;01mlambda\u001b[39;49;00m\u001b[43m \u001b[49m\u001b[43mx\u001b[49m\u001b[43m:\u001b[49m\u001b[43m \u001b[49m\u001b[43mx\u001b[49m\u001b[43m \u001b[49m\u001b[38;5;129;43;01mis\u001b[39;49;00m\u001b[43m \u001b[49m\u001b[38;5;28;43;01mNone\u001b[39;49;00m\u001b[43m,\u001b[49m\n\u001b[1;32m    286\u001b[0m \u001b[43m  \u001b[49m\u001b[43m)\u001b[49m\n",
      "File \u001b[0;32m~/work/vqvae/.venv/lib/python3.12/site-packages/jax/_src/tree_util.py:344\u001b[0m, in \u001b[0;36mtree_map\u001b[0;34m(f, tree, is_leaf, *rest)\u001b[0m\n\u001b[1;32m    342\u001b[0m leaves, treedef \u001b[38;5;241m=\u001b[39m tree_flatten(tree, is_leaf)\n\u001b[1;32m    343\u001b[0m all_leaves \u001b[38;5;241m=\u001b[39m [leaves] \u001b[38;5;241m+\u001b[39m [treedef\u001b[38;5;241m.\u001b[39mflatten_up_to(r) \u001b[38;5;28;01mfor\u001b[39;00m r \u001b[38;5;129;01min\u001b[39;00m rest]\n\u001b[0;32m--> 344\u001b[0m \u001b[38;5;28;01mreturn\u001b[39;00m \u001b[43mtreedef\u001b[49m\u001b[38;5;241;43m.\u001b[39;49m\u001b[43munflatten\u001b[49m\u001b[43m(\u001b[49m\u001b[43mf\u001b[49m\u001b[43m(\u001b[49m\u001b[38;5;241;43m*\u001b[39;49m\u001b[43mxs\u001b[49m\u001b[43m)\u001b[49m\u001b[43m \u001b[49m\u001b[38;5;28;43;01mfor\u001b[39;49;00m\u001b[43m \u001b[49m\u001b[43mxs\u001b[49m\u001b[43m \u001b[49m\u001b[38;5;129;43;01min\u001b[39;49;00m\u001b[43m \u001b[49m\u001b[38;5;28;43mzip\u001b[39;49m\u001b[43m(\u001b[49m\u001b[38;5;241;43m*\u001b[39;49m\u001b[43mall_leaves\u001b[49m\u001b[43m)\u001b[49m\u001b[43m)\u001b[49m\n",
      "File \u001b[0;32m~/work/vqvae/.venv/lib/python3.12/site-packages/jax/_src/tree_util.py:344\u001b[0m, in \u001b[0;36m<genexpr>\u001b[0;34m(.0)\u001b[0m\n\u001b[1;32m    342\u001b[0m leaves, treedef \u001b[38;5;241m=\u001b[39m tree_flatten(tree, is_leaf)\n\u001b[1;32m    343\u001b[0m all_leaves \u001b[38;5;241m=\u001b[39m [leaves] \u001b[38;5;241m+\u001b[39m [treedef\u001b[38;5;241m.\u001b[39mflatten_up_to(r) \u001b[38;5;28;01mfor\u001b[39;00m r \u001b[38;5;129;01min\u001b[39;00m rest]\n\u001b[0;32m--> 344\u001b[0m \u001b[38;5;28;01mreturn\u001b[39;00m treedef\u001b[38;5;241m.\u001b[39munflatten(\u001b[43mf\u001b[49m\u001b[43m(\u001b[49m\u001b[38;5;241;43m*\u001b[39;49m\u001b[43mxs\u001b[49m\u001b[43m)\u001b[49m \u001b[38;5;28;01mfor\u001b[39;00m xs \u001b[38;5;129;01min\u001b[39;00m \u001b[38;5;28mzip\u001b[39m(\u001b[38;5;241m*\u001b[39mall_leaves))\n",
      "File \u001b[0;32m~/work/vqvae/.venv/lib/python3.12/site-packages/optax/tree_utils/_tree_math.py:281\u001b[0m, in \u001b[0;36mtree_update_moment.<locals>.<lambda>\u001b[0;34m(g, t)\u001b[0m\n\u001b[1;32m    277\u001b[0m \u001b[38;5;28;01mdef\u001b[39;00m \u001b[38;5;21mtree_update_moment\u001b[39m(updates, moments, decay, order):\n\u001b[1;32m    278\u001b[0m \u001b[38;5;250m  \u001b[39m\u001b[38;5;124;03m\"\"\"Compute the exponential moving average of the `order`-th moment.\"\"\"\u001b[39;00m\n\u001b[1;32m    279\u001b[0m   \u001b[38;5;28;01mreturn\u001b[39;00m jtu\u001b[38;5;241m.\u001b[39mtree_map(\n\u001b[1;32m    280\u001b[0m       \u001b[38;5;28;01mlambda\u001b[39;00m g, t: (\n\u001b[0;32m--> 281\u001b[0m           (\u001b[38;5;241m1\u001b[39m \u001b[38;5;241m-\u001b[39m decay) \u001b[38;5;241m*\u001b[39m (g\u001b[38;5;241m*\u001b[39m\u001b[38;5;241m*\u001b[39morder) \u001b[38;5;241m+\u001b[39m \u001b[43mdecay\u001b[49m\u001b[43m \u001b[49m\u001b[38;5;241;43m*\u001b[39;49m\u001b[43m \u001b[49m\u001b[43mt\u001b[49m \u001b[38;5;28;01mif\u001b[39;00m g \u001b[38;5;129;01mis\u001b[39;00m \u001b[38;5;129;01mnot\u001b[39;00m \u001b[38;5;28;01mNone\u001b[39;00m \u001b[38;5;28;01melse\u001b[39;00m \u001b[38;5;28;01mNone\u001b[39;00m\n\u001b[1;32m    282\u001b[0m       ),\n\u001b[1;32m    283\u001b[0m       updates,\n\u001b[1;32m    284\u001b[0m       moments,\n\u001b[1;32m    285\u001b[0m       is_leaf\u001b[38;5;241m=\u001b[39m\u001b[38;5;28;01mlambda\u001b[39;00m x: x \u001b[38;5;129;01mis\u001b[39;00m \u001b[38;5;28;01mNone\u001b[39;00m,\n\u001b[1;32m    286\u001b[0m   )\n",
      "\u001b[0;31mTypeError\u001b[0m: unsupported operand type(s) for *: 'float' and 'State'"
     ]
    }
   ],
   "source": [
    "state.update(grad)"
   ]
  },
  {
   "cell_type": "code",
   "execution_count": null,
   "id": "c8d94b70-1b2c-4af0-9222-6297b80d8801",
   "metadata": {},
   "outputs": [],
   "source": []
  }
 ],
 "metadata": {
  "kernelspec": {
   "display_name": "Python 3 (ipykernel)",
   "language": "python",
   "name": "python3"
  },
  "language_info": {
   "codemirror_mode": {
    "name": "ipython",
    "version": 3
   },
   "file_extension": ".py",
   "mimetype": "text/x-python",
   "name": "python",
   "nbconvert_exporter": "python",
   "pygments_lexer": "ipython3",
   "version": "3.12.3"
  }
 },
 "nbformat": 4,
 "nbformat_minor": 5
}
