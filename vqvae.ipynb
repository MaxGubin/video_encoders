{
 "cells": [
  {
   "cell_type": "code",
   "execution_count": 1,
   "id": "03abe00f-74eb-4281-bb3f-05293f62d104",
   "metadata": {},
   "outputs": [],
   "source": [
    "# imports\n",
    "import jax\n",
    "from flax import nnx\n",
    "import optax\n",
    "import jax.numpy as jnp\n",
    "import dataclasses\n",
    "\n",
    "from typing import List"
   ]
  },
  {
   "cell_type": "code",
   "execution_count": 2,
   "id": "77f38ae2-8220-4bd1-9a5c-f883386b2659",
   "metadata": {},
   "outputs": [
    {
     "data": {
      "text/plain": [
       "[CudaDevice(id=0)]"
      ]
     },
     "execution_count": 2,
     "metadata": {},
     "output_type": "execute_result"
    }
   ],
   "source": [
    "jax.devices()"
   ]
  },
  {
   "cell_type": "markdown",
   "id": "98a8435f-4891-4df2-876b-596d28bb8bfd",
   "metadata": {},
   "source": [
    "# Configuration\n",
    "This model has more parameters, let's create a special class with configuration parameters"
   ]
  },
  {
   "cell_type": "markdown",
   "id": "45ce72fd-e413-41e1-aabb-02a7ddca136f",
   "metadata": {},
   "source": [
    "# Configuration\n",
    "This model has more parameters, let's create a special class with configuration parameters"
   ]
  },
  {
   "cell_type": "code",
   "execution_count": 65,
   "id": "3ef65a40-274c-4849-98ec-09c097237b48",
   "metadata": {},
   "outputs": [],
   "source": [
    "@dataclasses.dataclass\n",
    "class Config:\n",
    "    embedded_size:int = 64\n",
    "\n",
    "    # Image-related parameters\n",
    "    image_channels:int = 3\n",
    "    image_width:int = 256\n",
    "    image_height:int = 256\n",
    "\n",
    "    # Architecture related parameters\n",
    "    num_residual_hiddens:int = 128\n",
    "    num_residual_input:int = 32\n",
    "    num_residual_layers_encoder:int = 2\n",
    "\n",
    "    num_residual_layers_decoder:int = 2\n",
    "    # Dataset-related parameters\n",
    "    dataset_name:str = 'bitmind/ffhq-256_training_faces'\n",
    "    "
   ]
  },
  {
   "cell_type": "code",
   "execution_count": 66,
   "id": "231dc1b4-3b05-4801-81bd-fce12b08eddb",
   "metadata": {},
   "outputs": [],
   "source": [
    "class ResBlock(nnx.Module):\n",
    "    \"\"\"One block of the encoder with a residual connection\"\"\"\n",
    "    def __init__(self, config:Config, rngs: nnx.Rngs):\n",
    "        super().__init__()\n",
    "        self.config= config\n",
    "        self.conv1 = nnx.Conv(in_features=config.num_residual_input, out_features=config.num_residual_hiddens, kernel_size=(3,3), strides=1, padding='SAME', rngs=rngs)\n",
    "        self.conv2 = nnx.Conv(in_features=config.num_residual_hiddens, out_features=config.num_residual_input, kernel_size=(1,1), strides=1, padding='SAME', rngs=rngs)\n",
    "    def __call__(self, inputs:jax.Array):\n",
    "        out = self.conv1(inputs)\n",
    "        out = jax.nn.relu(out)\n",
    "        out = self.conv2(out)\n",
    "        out = jax.nn.relu(out)\n",
    "        return out+inputs\n",
    "    "
   ]
  },
  {
   "cell_type": "code",
   "execution_count": 13,
   "id": "7979431e-cb26-4427-8f15-7cc2cd203f5a",
   "metadata": {},
   "outputs": [],
   "source": [
    "rngs = nnx.Rngs(0)\n",
    "config = Config()\n",
    "res_block = ResBlock(config, rngs)"
   ]
  },
  {
   "cell_type": "code",
   "execution_count": 29,
   "id": "1f135a94-df29-4fe8-93ff-b9b7e08379ae",
   "metadata": {},
   "outputs": [
    {
     "data": {
      "text/plain": [
       "((256, 256, 3), (256, 256, 3))"
      ]
     },
     "execution_count": 29,
     "metadata": {},
     "output_type": "execute_result"
    }
   ],
   "source": [
    "test_image=jnp.ones((config.image_height, config.image_width, 3))\n",
    "test_image.shape, res_block(test_image).shape            "
   ]
  },
  {
   "cell_type": "code",
   "execution_count": 79,
   "id": "841f1bc9-a2f0-4c7e-a69d-a48574fe7819",
   "metadata": {},
   "outputs": [],
   "source": [
    "class Encoder(nnx.Module):\n",
    "    \"\"\"VQVAE encoder\"\"\"\n",
    "    def __init__(self, config: Config, rngs: nnx.Rngs):\n",
    "        super().__init__()\n",
    "        self.config = config\n",
    "        self.res_layers = [ResBlock(config, rngs) for _ in range(self.config.num_residual_layers_encoder)]\n",
    "        # Three convolutions that reduce resolution by 2 and increase internal \n",
    "        self.initial_conv1 = nnx.Conv(in_features=config.image_channels, out_features=config.num_residual_input//2, kernel_size=(4,4), strides=(2, 2), padding='SAME', rngs=rngs)\n",
    "        self.initial_conv2 = nnx.Conv(in_features=config.num_residual_input//2, out_features=config.num_residual_input, kernel_size=(4,4), strides=(2, 2), padding='SAME', rngs=rngs)\n",
    "        \n",
    "        \n",
    "    def __call__(self, input: jax.Array):\n",
    "        print('Input:', input.shape)\n",
    "        x = jax.nn.relu(self.initial_conv1(input))\n",
    "        print('E1 ', x.shape)\n",
    "        x = jax.nn.relu(self.initial_conv2(x))\n",
    "        print('E2 ', x.shape)\n",
    "        for i, l in enumerate(self.res_layers):\n",
    "            x = l(x)\n",
    "            print('R', i, x.shape)\n",
    "        # Flatten output into one vector\n",
    "        x = x.flatten()\n",
    "        print('O', x.shape)\n",
    "        return x"
   ]
  },
  {
   "cell_type": "code",
   "execution_count": 80,
   "id": "a73cff4e-c1ee-4bdd-9d2f-30a72de839ea",
   "metadata": {},
   "outputs": [],
   "source": [
    "rngs = nnx.Rngs(0)\n",
    "config = Config()\n",
    "encoder = Encoder(config, rngs)"
   ]
  },
  {
   "cell_type": "code",
   "execution_count": 77,
   "id": "06746828-eef9-4dfd-8a2f-60f2cf5027f6",
   "metadata": {},
   "outputs": [
    {
     "ename": "SyntaxError",
     "evalue": "expected argument value expression (3664749262.py, line 9)",
     "output_type": "error",
     "traceback": [
      "\u001b[0;36m  Cell \u001b[0;32mIn[77], line 9\u001b[0;36m\u001b[0m\n\u001b[0;31m    self.conv_transpose2 = nnx.ConvTranspose(in_features=config.num_residual_input//2, kernel_size=(4, 4),out_features=, strides=2, padding=1, rngs=rngs)\u001b[0m\n\u001b[0m                                                                                                          ^\u001b[0m\n\u001b[0;31mSyntaxError\u001b[0m\u001b[0;31m:\u001b[0m expected argument value expression\n"
     ]
    }
   ],
   "source": [
    "class Decoder(nnx.Module):\n",
    "    \"\"\" ... \"\"\"\n",
    "    def __init__(self, config: Config,  rngs: nnx.Rngs):\n",
    "        super().__init__()\n",
    "        self.config = config\n",
    "        self.conv1 = nnx.Conv(in_features=1, out_features=config.num_residual_input, kernel_size=(3,3), strides=1, padding='SAME', rngs=rngs)\n",
    "        self.res_layers = [ResBlock(config, rngs) for _ in range(self.config.num_residual_layers_decoder)]\n",
    "        self.conv_transpose1 = nnx.ConvTranspose(in_features=config.num_residual_input,out_features=config.num_residual_input//2, kernel_size=(4, 4), strides=2, padding=1, rngs=rngs)\n",
    "        self.conv_transpose2 = nnx.ConvTranspose(in_features=config.num_residual_input//2, kernel_size=(4, 4),out_features=config.image_channels, strides=2, padding=1, rngs=rngs)\n",
    "    def __call__(self, x: jax.Array):\n",
    "        # \n",
    "        x = self.conv1(x)\n",
    "        for l in self.res_layers:\n",
    "            x = l(x)\n",
    "        print('1:', x.shape)\n",
    "        x = self.conv_transpose1(x)\n",
    "        print('2:', x.shape)\n",
    "        x = jax.nn.relu(x)\n",
    "        x = self.conv_transpose2(x)\n",
    "        return x"
   ]
  },
  {
   "cell_type": "code",
   "execution_count": 41,
   "id": "0bedafc3-771b-4391-9628-0900b728da9a",
   "metadata": {},
   "outputs": [],
   "source": [
    "rngs = nnx.Rngs(0)\n",
    "config = Config()\n",
    "decoder = Decoder(config, rngs)"
   ]
  },
  {
   "cell_type": "markdown",
   "id": "70f9f688-099f-48aa-947f-74c7358c32fe",
   "metadata": {},
   "source": [
    "# Datasets"
   ]
  },
  {
   "cell_type": "code",
   "execution_count": 20,
   "id": "4fc4c12a-647a-4d05-ae95-58417c4748f8",
   "metadata": {},
   "outputs": [],
   "source": [
    "import datasets\n",
    "from PIL import Image, ImageFile\n",
    "ImageFile.LOAD_TRUNCATED_IMAGES = True\n",
    "from IPython.display import display"
   ]
  },
  {
   "cell_type": "code",
   "execution_count": 26,
   "id": "00eae4e3-2048-4088-8af8-8b308136addd",
   "metadata": {},
   "outputs": [],
   "source": [
    "dataset = datasets.load_dataset(config.dataset_name, 'base_transforms')\n",
    "images = dataset['train']['image']"
   ]
  },
  {
   "cell_type": "code",
   "execution_count": 27,
   "id": "7fd6215c-8d03-4b8c-b01f-72ea754b3173",
   "metadata": {},
   "outputs": [
    {
     "name": "stdout",
     "output_type": "stream",
     "text": [
      "(256, 256, 3)\n"
     ]
    }
   ],
   "source": [
    "for d in images:\n",
    "    print(jnp.array(d).shape)\n",
    "    break"
   ]
  },
  {
   "cell_type": "code",
   "execution_count": 81,
   "id": "36f4980f-c555-4f1c-9834-ef145ec65462",
   "metadata": {},
   "outputs": [
    {
     "name": "stdout",
     "output_type": "stream",
     "text": [
      "Input: (256, 256, 3)\n",
      "E1  (128, 128, 16)\n",
      "E2  (64, 64, 32)\n",
      "R 0 (64, 64, 32)\n",
      "R 1 (64, 64, 32)\n",
      "O (131072,)\n"
     ]
    }
   ],
   "source": [
    "encoded=encoder(jnp.array(images[0]))"
   ]
  },
  {
   "cell_type": "code",
   "execution_count": 42,
   "id": "d8eef93c-4c70-4957-98c0-d4501e6aecb3",
   "metadata": {},
   "outputs": [
    {
     "name": "stdout",
     "output_type": "stream",
     "text": [
      "1: (256, 256, 3)\n",
      "2: (510, 510, 1)\n"
     ]
    },
    {
     "data": {
      "text/plain": [
       "(1018, 1018, 3)"
      ]
     },
     "execution_count": 42,
     "metadata": {},
     "output_type": "execute_result"
    }
   ],
   "source": [
    "decoder(encoded).shape"
   ]
  },
  {
   "cell_type": "markdown",
   "id": "421897af-66c3-4da9-926b-6110c9b0d1fc",
   "metadata": {},
   "source": [
    "# Training"
   ]
  },
  {
   "cell_type": "code",
   "execution_count": null,
   "id": "52576303-2f91-4ba2-ae0e-75a26c1141fa",
   "metadata": {},
   "outputs": [],
   "source": [
    "def image_loss(orig, restored):\n",
    "    return jax.numpy.mean((org-restored)**2)"
   ]
  }
 ],
 "metadata": {
  "kernelspec": {
   "display_name": "Python 3 (ipykernel)",
   "language": "python",
   "name": "python3"
  },
  "language_info": {
   "codemirror_mode": {
    "name": "ipython",
    "version": 3
   },
   "file_extension": ".py",
   "mimetype": "text/x-python",
   "name": "python",
   "nbconvert_exporter": "python",
   "pygments_lexer": "ipython3",
   "version": "3.12.3"
  }
 },
 "nbformat": 4,
 "nbformat_minor": 5
}
