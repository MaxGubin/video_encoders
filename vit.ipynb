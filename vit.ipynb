{
 "cells": [
  {
   "cell_type": "markdown",
   "id": "0130af27-14ef-41a2-b818-c5b3ac96196b",
   "metadata": {},
   "source": [
    "# VIT JAX naive implementation"
   ]
  },
  {
   "cell_type": "code",
   "execution_count": 1,
   "id": "7eef8f57-db78-45dc-8444-6027de5af73b",
   "metadata": {},
   "outputs": [],
   "source": [
    "# imports\n",
    "import jax\n",
    "from flax import nnx\n",
    "import optax\n",
    "import jax.numpy as jnp\n",
    "import dataclasses\n",
    "\n",
    "from typing import List, Dict"
   ]
  },
  {
   "cell_type": "code",
   "execution_count": 2,
   "id": "02be722b-4b36-4ac8-b395-1434e13fe8cc",
   "metadata": {},
   "outputs": [
    {
     "data": {
      "text/plain": [
       "[CudaDevice(id=0)]"
      ]
     },
     "execution_count": 2,
     "metadata": {},
     "output_type": "execute_result"
    }
   ],
   "source": [
    "jax.devices()"
   ]
  },
  {
   "cell_type": "markdown",
   "id": "61231447-e72f-4625-aacc-2e6c7542f4a1",
   "metadata": {},
   "source": [
    "## Configuration"
   ]
  },
  {
   "cell_type": "code",
   "execution_count": 35,
   "id": "9870ba10-3c8b-4bbc-9e28-bd42944c055b",
   "metadata": {},
   "outputs": [],
   "source": [
    "@dataclasses.dataclass\n",
    "class Config:\n",
    "    # \n",
    "    num_patches:int = 16 # The image will be divided in num_patches_x_num_patches\n",
    "\n",
    "    # Training parameters\n",
    "    batch_size:int = 32\n",
    "    # Dataset related parameters\n",
    "    dataset_name:str = \"zh-plus/tiny-imagenet\"\n",
    "    image_size:int = 64 # assume that every image is image_size_x_image_size"
   ]
  },
  {
   "cell_type": "code",
   "execution_count": 36,
   "id": "d86fbb74-1389-4c91-9342-927d9e1efa6f",
   "metadata": {},
   "outputs": [],
   "source": [
    "config = Config()"
   ]
  },
  {
   "cell_type": "markdown",
   "id": "56b340ea-d940-47fc-a3b0-b81bd9d0dba6",
   "metadata": {},
   "source": [
    "## Dataset"
   ]
  },
  {
   "cell_type": "code",
   "execution_count": 3,
   "id": "2ba1d19a-757f-481c-a61a-5faf8ba35347",
   "metadata": {},
   "outputs": [],
   "source": [
    "import datasets\n",
    "from PIL import Image\n",
    "from IPython.display import display"
   ]
  },
  {
   "cell_type": "code",
   "execution_count": 7,
   "id": "f99b18c1-ff91-4097-8bb5-a9d2ccc1f191",
   "metadata": {},
   "outputs": [
    {
     "data": {
      "application/vnd.jupyter.widget-view+json": {
       "model_id": "d3aaa9736b4e444eb28391a8b18e8394",
       "version_major": 2,
       "version_minor": 0
      },
      "text/plain": [
       "README.md:   0%|          | 0.00/3.90k [00:00<?, ?B/s]"
      ]
     },
     "metadata": {},
     "output_type": "display_data"
    },
    {
     "data": {
      "application/vnd.jupyter.widget-view+json": {
       "model_id": "6c0460cd8f484b12a71732788229019b",
       "version_major": 2,
       "version_minor": 0
      },
      "text/plain": [
       "dataset_infos.json:   0%|          | 0.00/3.52k [00:00<?, ?B/s]"
      ]
     },
     "metadata": {},
     "output_type": "display_data"
    },
    {
     "data": {
      "text/plain": [
       "IterableDatasetDict({\n",
       "    train: IterableDataset({\n",
       "        features: ['image', 'label'],\n",
       "        n_shards: 1\n",
       "    })\n",
       "    valid: IterableDataset({\n",
       "        features: ['image', 'label'],\n",
       "        n_shards: 1\n",
       "    })\n",
       "})"
      ]
     },
     "execution_count": 7,
     "metadata": {},
     "output_type": "execute_result"
    }
   ],
   "source": [
    "dataset=datasets.load_dataset(config.dataset_name, streaming=True)\n",
    "dataset"
   ]
  },
  {
   "cell_type": "code",
   "execution_count": 24,
   "id": "78aa3f30-2cbd-4542-a943-6544d5f213f8",
   "metadata": {},
   "outputs": [],
   "source": [
    "batched_data =  dataset['train'].batch(config.batch_size, drop_last_batch=True).map(lambda x: {\"image\": jnp.array([jnp.array(i) for i in x[\"image\"]]), \"label\": jnp.array(x[\"label\"])})"
   ]
  },
  {
   "cell_type": "code",
   "execution_count": 27,
   "id": "1357cab3-dbd0-4515-b820-d42f1f79f467",
   "metadata": {},
   "outputs": [],
   "source": [
    "for x in batched_data:\n",
    "    break\n"
   ]
  },
  {
   "cell_type": "code",
   "execution_count": 37,
   "id": "f592d25b-3b40-48b1-ac72-62c259b98eac",
   "metadata": {},
   "outputs": [
    {
     "data": {
      "image/jpeg": "[encoded data removed]",
      "image/png": "[encoded data removed]",
      "text/plain": [
       "<PIL.Image.Image image mode=RGB size=64x64>"
      ]
     },
     "execution_count": 37,
     "metadata": {},
     "output_type": "execute_result"
    }
   ],
   "source": [
    "Image.frombytes('RGB', data=x['image'].tobytes(), size=(config.image_size, config.image_size))"
   ]
  },
  {
   "cell_type": "code",
   "execution_count": 30,
   "id": "14bfb8ac-c89e-4c66-b289-8df2a42d8ddc",
   "metadata": {},
   "outputs": [
    {
     "data": {
      "text/plain": [
       "(Array(0, dtype=uint8),\n",
       " Array(255, dtype=uint8),\n",
       " Array(877874995, dtype=uint32),\n",
       " 8650752)"
      ]
     },
     "execution_count": 30,
     "metadata": {},
     "output_type": "execute_result"
    }
   ],
   "source": [
    "# Calculate averages for whitenning\n",
    "min_val = 255\n",
    "max_val = 0\n",
    "avg_sum = 0\n",
    "avg_denom = 0\n",
    "for step, batch in enumerate(batched_data):\n",
    "    data = batch[\"image\"]\n",
    "    #print(jnp.min(data), jnp.max(data), jnp.sum(data), data.size)\n",
    "    min_val = min(min_val, jnp.min(data))\n",
    "    max_val = max(max_val, jnp.max(data))\n",
    "    avg_sum += jnp.sum(data)\n",
    "    avg_denom += data.size\n",
    "    if step > 20:\n",
    "        break\n",
    "min_val, max_val, avg_sum, avg_denom"
   ]
  },
  {
   "cell_type": "code",
   "execution_count": 31,
   "id": "dcb411ec-8480-40e9-948e-272f4e7a0eb6",
   "metadata": {},
   "outputs": [],
   "source": [
    "def whitenen(img: jax.Array) -> jax.Array:\n",
    "    assert img.dtype == jnp.uint8\n",
    "    return (img.astype(jnp.float32)-128.)/128\n",
    "\n",
    "def dewhitenen(img: jax.Array) -> jax.Array:\n",
    "    assert img.dtype == jnp.float32\n",
    "    return (128.*img +128.).astype(jnp.uint8)"
   ]
  },
  {
   "cell_type": "code",
   "execution_count": 38,
   "id": "90a86d96-31b0-4db5-b57b-20a3b0cddde1",
   "metadata": {},
   "outputs": [],
   "source": [
    "whtn_batched_data = batched_data.map(lambda x: {'image': whitenen(x['image'])})"
   ]
  },
  {
   "cell_type": "code",
   "execution_count": 39,
   "id": "c7b0c3b2-f1dd-4519-b0c4-53c5948678b1",
   "metadata": {},
   "outputs": [
    {
     "data": {
      "image/jpeg": "[encoded data removed]",
      "image/png": "[encoded data removed]",
      "text/plain": [
       "<PIL.Image.Image image mode=RGB size=64x64>"
      ]
     },
     "execution_count": 39,
     "metadata": {},
     "output_type": "execute_result"
    }
   ],
   "source": [
    "for wtn in whtn_batched_data:\n",
    "    break\n",
    "Image.frombytes('RGB', data=dewhitenen(wtn['image']).tobytes(), size=(config.image_size, config.image_size))"
   ]
  },
  {
   "cell_type": "markdown",
   "id": "6ff8d603-be7e-4299-8eb5-6f4a5e4ec404",
   "metadata": {},
   "source": [
    "### Model"
   ]
  },
  {
   "cell_type": "code",
   "execution_count": null,
   "id": "a2902fff-3a51-4d3d-b1e0-6797c7d0e459",
   "metadata": {},
   "outputs": [],
   "source": [
    "class ViTTransformer(nnx.Module):\n",
    "    \"\"\" A naive implementation of transformer \"\"\"\n",
    "    def __init__(self, config:Config, rngs:nnx.Rngs):\n",
    "        super().__init__()\n",
    "        self.mlp1 = nnx.Linear()\n",
    "        self.mlp2 = nnx.Linear()"
   ]
  }
 ],
 "metadata": {
  "kernelspec": {
   "display_name": "Python 3 (ipykernel)",
   "language": "python",
   "name": "python3"
  },
  "language_info": {
   "codemirror_mode": {
    "name": "ipython",
    "version": 3
   },
   "file_extension": ".py",
   "mimetype": "text/x-python",
   "name": "python",
   "nbconvert_exporter": "python",
   "pygments_lexer": "ipython3",
   "version": "3.12.3"
  }
 },
 "nbformat": 4,
 "nbformat_minor": 5
}
