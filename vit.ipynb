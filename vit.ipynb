{
 "cells": [
  {
   "cell_type": "markdown",
   "id": "0130af27-14ef-41a2-b818-c5b3ac96196b",
   "metadata": {},
   "source": [
    "# VIT JAX naive implementation"
   ]
  },
  {
   "cell_type": "code",
   "execution_count": null,
   "id": "7eef8f57-db78-45dc-8444-6027de5af73b",
   "metadata": {},
   "outputs": [],
   "source": [
    "# imports\n",
    "import jax\n",
    "from flax import nnx\n",
    "import optax\n",
    "import jax.numpy as jnp\n",
    "import dataclasses\n",
    "\n",
    "from typing import List, Dict"
   ]
  },
  {
   "cell_type": "code",
   "execution_count": null,
   "id": "02be722b-4b36-4ac8-b395-1434e13fe8cc",
   "metadata": {},
   "outputs": [],
   "source": [
    "jax.devices()"
   ]
  },
  {
   "cell_type": "markdown",
   "id": "61231447-e72f-4625-aacc-2e6c7542f4a1",
   "metadata": {},
   "source": [
    "## Configuration"
   ]
  },
  {
   "cell_type": "code",
   "execution_count": null,
   "id": "9870ba10-3c8b-4bbc-9e28-bd42944c055b",
   "metadata": {},
   "outputs": [],
   "source": [
    "@dataclasses.dataclass\n",
    "class Config:\n",
    "    # \n",
    "    num_patches:int = 16, # The image will be divided in num_patches_x_num_patches\n",
    "\n",
    "    # Dataset related parameters\n",
    "    dataset_name:str = \"zh-plus/tiny-imagenet\",\n",
    "    image_size:int = 32, # assume that every image is image_size_x_image_size"
   ]
  }
 ],
 "metadata": {
  "kernelspec": {
   "display_name": "Python 3 (ipykernel)",
   "language": "python",
   "name": "python3"
  },
  "language_info": {
   "codemirror_mode": {
    "name": "ipython",
    "version": 3
   },
   "file_extension": ".py",
   "mimetype": "text/x-python",
   "name": "python",
   "nbconvert_exporter": "python",
   "pygments_lexer": "ipython3",
   "version": "3.12.3"
  }
 },
 "nbformat": 4,
 "nbformat_minor": 5
}
