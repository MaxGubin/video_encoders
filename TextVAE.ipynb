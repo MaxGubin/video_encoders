{
  "nbformat": 4,
  "nbformat_minor": 0,
  "metadata": {
    "colab": {
      "provenance": [],
      "authorship_tag": "ABX9TyPomrm+hE6c8MWjoZNN4kdN",
      "include_colab_link": true
    },
    "kernelspec": {
      "name": "python3",
      "display_name": "Python 3"
    },
    "language_info": {
      "name": "python"
    }
  },
  "cells": [
    {
      "cell_type": "markdown",
      "metadata": {
        "id": "view-in-github",
        "colab_type": "text"
      },
      "source": [
        "<a href=\"https://colab.research.google.com/github/MaxGubin/video_encoders/blob/main/TextVAE.ipynb\" target=\"_parent\"><img src=\"https://colab.research.google.com/assets/colab-badge.svg\" alt=\"Open In Colab\"/></a>"
      ]
    },
    {
      "cell_type": "code",
      "execution_count": null,
      "metadata": {
        "id": "-wfJgWxqo_FD"
      },
      "outputs": [],
      "source": [
        "import jax"
      ]
    },
    {
      "cell_type": "code",
      "source": [
        "jax.__version__, jax.__version_info__"
      ],
      "metadata": {
        "colab": {
          "base_uri": "https://localhost:8080/"
        },
        "id": "uGOahYGEpOlo",
        "outputId": "8e2b319b-9bcf-4509-868c-8df186d327ae"
      },
      "execution_count": null,
      "outputs": [
        {
          "output_type": "execute_result",
          "data": {
            "text/plain": [
              "('0.5.2', (0, 5, 2))"
            ]
          },
          "metadata": {},
          "execution_count": 2
        }
      ]
    },
    {
      "cell_type": "code",
      "source": [
        "# prompt: write in jax transformer encoder/decoder model\n",
        "\n",
        "import jax\n",
        "import jax.numpy as jnp\n",
        "from flax import linen as nn\n",
        "from flax.training import train_state\n",
        "\n",
        "class TransformerEncoder(nn.Module):\n",
        "    num_layers: int\n",
        "    d_model: int\n",
        "    num_heads: int\n",
        "    dff: int\n",
        "    dropout_rate: float\n",
        "\n",
        "    @nn.compact\n",
        "    def __call__(self, x, train):\n",
        "        # Positional Encoding\n",
        "        x = x + positional_encoding(x.shape[1], self.d_model)\n",
        "        # Embedding Dropout\n",
        "        x = nn.Dropout(rate=self.dropout_rate)(x, deterministic=not train)\n",
        "\n",
        "        for _ in range(self.num_layers):\n",
        "            x = EncoderLayer(d_model=self.d_model, num_heads=self.num_heads, dff=self.dff,\n",
        "                             dropout_rate=self.dropout_rate)(x, train=train)\n",
        "        return x\n",
        "\n",
        "class EncoderLayer(nn.Module):\n",
        "    d_model: int\n",
        "    num_heads: int\n",
        "    dff: int\n",
        "    dropout_rate: float\n",
        "\n",
        "    @nn.compact\n",
        "    def __call__(self, x, train):\n",
        "        attn_output = MultiHeadAttention(d_model=self.d_model, num_heads=self.num_heads, dropout_rate=self.dropout_rate)(x, x, x, train)\n",
        "        x = nn.LayerNorm()(x + attn_output)  # Add & Norm\n",
        "        ffn_output = point_wise_feed_forward_network(d_model=self.d_model, dff=self.dff)(x)\n",
        "        x = nn.LayerNorm()(x + ffn_output) # Add & Norm\n",
        "        return x\n",
        "\n",
        "class MultiHeadAttention(nn.Module):\n",
        "    d_model: int\n",
        "    num_heads: int\n",
        "    dropout_rate: float\n",
        "\n",
        "    @nn.compact\n",
        "    def __call__(self, v, k, q, train):\n",
        "        depth = self.d_model // self.num_heads\n",
        "        wq = nn.Dense(self.d_model)\n",
        "        wk = nn.Dense(self.d_model)\n",
        "        wv = nn.Dense(self.d_model)\n",
        "\n",
        "        q = wq(q)\n",
        "        k = wk(k)\n",
        "        v = wv(v)\n",
        "\n",
        "        scaled_attention, attention_weights = scaled_dot_product_attention(q, k, v, depth, self.dropout_rate, train)\n",
        "\n",
        "        scaled_attention = scaled_attention.reshape(scaled_attention.shape[0], -1, self.d_model)\n",
        "\n",
        "        output = nn.Dense(self.d_model)(scaled_attention)\n",
        "        return output\n",
        "\n",
        "def scaled_dot_product_attention(q, k, v, depth, dropout_rate, train):\n",
        "  matmul_qk = jnp.einsum('bqhd,bkhd->bhqk', q, k)\n",
        "  dk = jnp.array(k.shape[-1], dtype=jnp.float32)\n",
        "  scaled_attention_logits = matmul_qk / jnp.sqrt(dk)\n",
        "\n",
        "  attention_weights = jax.nn.softmax(scaled_attention_logits, axis=-1)\n",
        "\n",
        "  output = jnp.einsum('bhqk,bkhd->bqhd', attention_weights, v)\n",
        "\n",
        "  output = nn.Dropout(rate=dropout_rate)(output, deterministic=not train)\n",
        "  return output, attention_weights\n",
        "\n",
        "\n",
        "def point_wise_feed_forward_network(d_model, dff):\n",
        "    return nn.Sequential([\n",
        "        nn.Dense(dff),\n",
        "        nn.relu,\n",
        "        nn.Dense(d_model)\n",
        "    ])\n",
        "\n",
        "\n",
        "def positional_encoding(position, d_model):\n",
        "    angle_rads = get_angles(jnp.arange(position)[:, jnp.newaxis],\n",
        "                          jnp.arange(d_model)[jnp.newaxis, :],\n",
        "                          d_model)\n",
        "\n",
        "    # apply sin to even indices in the array; 2i\n",
        "    angle_rads[:, 0::2] = jnp.sin(angle_rads[:, 0::2])\n",
        "\n",
        "    # apply cos to odd indices in the array; 2i+1\n",
        "    angle_rads[:, 1::2] = jnp.cos(angle_rads[:, 1::2])\n",
        "\n",
        "    pos_encoding = angle_rads[jnp.newaxis, ...]\n",
        "\n",
        "    return jnp.array(pos_encoding)\n",
        "\n",
        "\n",
        "def get_angles(pos, i, d_model):\n",
        "    angle_rates = 1 / jnp.power(10000, (2 * (i//2)) / jnp.float32(d_model))\n",
        "    return pos * angle_rates\n"
      ],
      "metadata": {
        "id": "8qtBp9VxprPI"
      },
      "execution_count": null,
      "outputs": []
    },
    {
      "cell_type": "code",
      "source": [
        "import tensorflow_datasets as tfds"
      ],
      "metadata": {
        "id": "4KWZ5Tv4p7-y"
      },
      "execution_count": null,
      "outputs": []
    }
  ]
}